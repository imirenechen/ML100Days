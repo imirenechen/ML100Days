{
 "cells": [
  {
   "cell_type": "markdown",
   "id": "d1fd530d",
   "metadata": {
    "id": "d1fd530d"
   },
   "source": [
    "# ML100Marathon Final Exam\n",
    "- [機器學習百日馬拉松期末考 - 花朵辨識](https://www.kaggle.com/competitions/2021-ml-100-marathon-final-exam)"
   ]
  },
  {
   "cell_type": "code",
   "execution_count": 1,
   "id": "AIx0WMJZ6BSg",
   "metadata": {
    "colab": {
     "base_uri": "https://localhost:8080/"
    },
    "executionInfo": {
     "elapsed": 25520,
     "status": "ok",
     "timestamp": 1669649138019,
     "user": {
      "displayName": "冠妤 Irene",
      "userId": "16904149191061800627"
     },
     "user_tz": -480
    },
    "id": "AIx0WMJZ6BSg",
    "outputId": "02f36243-3334-439d-ae47-2e8b10d1e73a"
   },
   "outputs": [
    {
     "name": "stdout",
     "output_type": "stream",
     "text": [
      "Mounted at /content/drive\n"
     ]
    }
   ],
   "source": [
    "from google.colab import drive\n",
    "drive.mount('/content/drive')"
   ]
  },
  {
   "cell_type": "markdown",
   "id": "6a6ecc3f",
   "metadata": {
    "id": "6a6ecc3f"
   },
   "source": [
    "## Step1 定義問題：圖像辨識，使用深度學習  \n",
    "\n",
    "## Step2 確認資料集並檢視"
   ]
  },
  {
   "cell_type": "code",
   "execution_count": 2,
   "id": "fb11a5c0",
   "metadata": {
    "colab": {
     "base_uri": "https://localhost:8080/"
    },
    "executionInfo": {
     "elapsed": 489,
     "status": "ok",
     "timestamp": 1669649145466,
     "user": {
      "displayName": "冠妤 Irene",
      "userId": "16904149191061800627"
     },
     "user_tz": -480
    },
    "id": "fb11a5c0",
    "outputId": "4656e422-9f7f-4547-8c3c-fd43e9a504d6"
   },
   "outputs": [
    {
     "name": "stdout",
     "output_type": "stream",
     "text": [
      "['dandelion', 'daisy', 'rose', 'tulip', 'sunflower']\n"
     ]
    }
   ],
   "source": [
    "import os\n",
    "train_path = \"/content/drive/MyDrive/image_data/train/\"\n",
    "test_path = \"/content/drive/MyDrive/image_data/test/\"\n",
    "print(os.listdir(train_path))\n",
    "\n",
    "# 花朵名稱對應的類別碼\n",
    "flower_mapping = {\"daisy\":0, \"dandelion\":1, \"rose\":2, \"sunflower\":3, \"tulip\":4}\n",
    "flowers = [\"daisy\", \"dandelion\", \"rose\", \"sunflower\", \"tulip\"]"
   ]
  },
  {
   "cell_type": "code",
   "execution_count": 3,
   "id": "5f586cc7",
   "metadata": {
    "executionInfo": {
     "elapsed": 2117,
     "status": "ok",
     "timestamp": 1669649150798,
     "user": {
      "displayName": "冠妤 Irene",
      "userId": "16904149191061800627"
     },
     "user_tz": -480
    },
    "id": "5f586cc7"
   },
   "outputs": [],
   "source": [
    "# 透過 data augmentation 產生訓練與驗證用的影像資料\n",
    "# 參考資料: ImageDataGenerator: https://www.tensorflow.org/api_docs/python/tf/keras/preprocessing/image/ImageDataGenerator\n",
    "# 參考資料: 【深度學習】ImageDataGenerator的使用: https://www.796t.com/content/1546542668.html\n",
    "from keras.preprocessing.image import ImageDataGenerator\n",
    "\n",
    "train_datagen = ImageDataGenerator(rotation_range=10, #隨機旋轉角度的上限 (角度值 : 0 ~ 180)\n",
    "                  width_shift_range=0.2, # 左右隨機平移上限\n",
    "                  height_shift_range=0.2, # 上下隨機平移上限\n",
    "                  shear_range=0.2, # 逆時針的剪切變形角度\n",
    "                  zoom_range=0.2, # 影像倍率放大縮小的上限\n",
    "                  horizontal_flip=True, # 是否左右翻轉\n",
    "                  fill_mode=\"nearest\", # 填補周圍空缺方法\n",
    "                  validation_split=0.2) # 測試集採樣比"
   ]
  },
  {
   "cell_type": "code",
   "execution_count": 4,
   "id": "dcfbf113",
   "metadata": {
    "colab": {
     "base_uri": "https://localhost:8080/"
    },
    "executionInfo": {
     "elapsed": 6,
     "status": "ok",
     "timestamp": 1669649153568,
     "user": {
      "displayName": "冠妤 Irene",
      "userId": "16904149191061800627"
     },
     "user_tz": -480
    },
    "id": "dcfbf113",
    "outputId": "faf65ba9-c1cf-41fe-a00a-cd2f9b7351bd"
   },
   "outputs": [
    {
     "name": "stdout",
     "output_type": "stream",
     "text": [
      "Found 2260 images belonging to 5 classes.\n",
      "Found 563 images belonging to 5 classes.\n"
     ]
    }
   ],
   "source": [
    "IMAGE_SIZE = (240, 320)\n",
    "BATCH_SIZE = 32\n",
    "\n",
    "train_generator = train_datagen.flow_from_directory(train_path, # 目標目錄\n",
    "                           target_size=IMAGE_SIZE, # 所有影象調整為IMAGE_SIZE\n",
    "                           classes=flowers, \n",
    "                           batch_size=BATCH_SIZE, \n",
    "                           subset=\"training\") # 設為訓練集\n",
    "\n",
    "valid_generator = train_datagen.flow_from_directory(train_path, \n",
    "                           target_size=IMAGE_SIZE, \n",
    "                           classes=flowers, \n",
    "                           batch_size=BATCH_SIZE, \n",
    "                           subset=\"validation\") # 設為驗證集  "
   ]
  },
  {
   "cell_type": "markdown",
   "id": "bc7b190d",
   "metadata": {
    "id": "bc7b190d"
   },
   "source": [
    "## Step3 建立模型"
   ]
  },
  {
   "cell_type": "markdown",
   "id": "edd7ca74",
   "metadata": {},
   "source": [
    "### 以 ResNet50 為基礎來建立模型(遷移學習)\n",
    "### Model 1: With fixed learning rate"
   ]
  },
  {
   "cell_type": "code",
   "execution_count": 5,
   "id": "cc5c01ca",
   "metadata": {
    "colab": {
     "base_uri": "https://localhost:8080/"
    },
    "executionInfo": {
     "elapsed": 11444,
     "status": "ok",
     "timestamp": 1669649169325,
     "user": {
      "displayName": "冠妤 Irene",
      "userId": "16904149191061800627"
     },
     "user_tz": -480
    },
    "id": "cc5c01ca",
    "outputId": "c7563122-3cba-4ce0-e786-ac9af675f97a"
   },
   "outputs": [
    {
     "name": "stdout",
     "output_type": "stream",
     "text": [
      "Downloading data from https://storage.googleapis.com/tensorflow/keras-applications/resnet/resnet50_weights_tf_dim_ordering_tf_kernels_notop.h5\n",
      "94765736/94765736 [==============================] - 5s 0us/step\n",
      "Model: \"model\"\n",
      "__________________________________________________________________________________________________\n",
      " Layer (type)                   Output Shape         Param #     Connected to                     \n",
      "==================================================================================================\n",
      " input_1 (InputLayer)           [(None, 240, 320, 3  0           []                               \n",
      "                                )]                                                                \n",
      "                                                                                                  \n",
      " conv1_pad (ZeroPadding2D)      (None, 246, 326, 3)  0           ['input_1[0][0]']                \n",
      "                                                                                                  \n",
      " conv1_conv (Conv2D)            (None, 120, 160, 64  9472        ['conv1_pad[0][0]']              \n",
      "                                )                                                                 \n",
      "                                                                                                  \n",
      " conv1_bn (BatchNormalization)  (None, 120, 160, 64  256         ['conv1_conv[0][0]']             \n",
      "                                )                                                                 \n",
      "                                                                                                  \n",
      " conv1_relu (Activation)        (None, 120, 160, 64  0           ['conv1_bn[0][0]']               \n",
      "                                )                                                                 \n",
      "                                                                                                  \n",
      " pool1_pad (ZeroPadding2D)      (None, 122, 162, 64  0           ['conv1_relu[0][0]']             \n",
      "                                )                                                                 \n",
      "                                                                                                  \n",
      " pool1_pool (MaxPooling2D)      (None, 60, 80, 64)   0           ['pool1_pad[0][0]']              \n",
      "                                                                                                  \n",
      " conv2_block1_1_conv (Conv2D)   (None, 60, 80, 64)   4160        ['pool1_pool[0][0]']             \n",
      "                                                                                                  \n",
      " conv2_block1_1_bn (BatchNormal  (None, 60, 80, 64)  256         ['conv2_block1_1_conv[0][0]']    \n",
      " ization)                                                                                         \n",
      "                                                                                                  \n",
      " conv2_block1_1_relu (Activatio  (None, 60, 80, 64)  0           ['conv2_block1_1_bn[0][0]']      \n",
      " n)                                                                                               \n",
      "                                                                                                  \n",
      " conv2_block1_2_conv (Conv2D)   (None, 60, 80, 64)   36928       ['conv2_block1_1_relu[0][0]']    \n",
      "                                                                                                  \n",
      " conv2_block1_2_bn (BatchNormal  (None, 60, 80, 64)  256         ['conv2_block1_2_conv[0][0]']    \n",
      " ization)                                                                                         \n",
      "                                                                                                  \n",
      " conv2_block1_2_relu (Activatio  (None, 60, 80, 64)  0           ['conv2_block1_2_bn[0][0]']      \n",
      " n)                                                                                               \n",
      "                                                                                                  \n",
      " conv2_block1_0_conv (Conv2D)   (None, 60, 80, 256)  16640       ['pool1_pool[0][0]']             \n",
      "                                                                                                  \n",
      " conv2_block1_3_conv (Conv2D)   (None, 60, 80, 256)  16640       ['conv2_block1_2_relu[0][0]']    \n",
      "                                                                                                  \n",
      " conv2_block1_0_bn (BatchNormal  (None, 60, 80, 256)  1024       ['conv2_block1_0_conv[0][0]']    \n",
      " ization)                                                                                         \n",
      "                                                                                                  \n",
      " conv2_block1_3_bn (BatchNormal  (None, 60, 80, 256)  1024       ['conv2_block1_3_conv[0][0]']    \n",
      " ization)                                                                                         \n",
      "                                                                                                  \n",
      " conv2_block1_add (Add)         (None, 60, 80, 256)  0           ['conv2_block1_0_bn[0][0]',      \n",
      "                                                                  'conv2_block1_3_bn[0][0]']      \n",
      "                                                                                                  \n",
      " conv2_block1_out (Activation)  (None, 60, 80, 256)  0           ['conv2_block1_add[0][0]']       \n",
      "                                                                                                  \n",
      " conv2_block2_1_conv (Conv2D)   (None, 60, 80, 64)   16448       ['conv2_block1_out[0][0]']       \n",
      "                                                                                                  \n",
      " conv2_block2_1_bn (BatchNormal  (None, 60, 80, 64)  256         ['conv2_block2_1_conv[0][0]']    \n",
      " ization)                                                                                         \n",
      "                                                                                                  \n",
      " conv2_block2_1_relu (Activatio  (None, 60, 80, 64)  0           ['conv2_block2_1_bn[0][0]']      \n",
      " n)                                                                                               \n",
      "                                                                                                  \n",
      " conv2_block2_2_conv (Conv2D)   (None, 60, 80, 64)   36928       ['conv2_block2_1_relu[0][0]']    \n",
      "                                                                                                  \n",
      " conv2_block2_2_bn (BatchNormal  (None, 60, 80, 64)  256         ['conv2_block2_2_conv[0][0]']    \n",
      " ization)                                                                                         \n",
      "                                                                                                  \n",
      " conv2_block2_2_relu (Activatio  (None, 60, 80, 64)  0           ['conv2_block2_2_bn[0][0]']      \n",
      " n)                                                                                               \n",
      "                                                                                                  \n",
      " conv2_block2_3_conv (Conv2D)   (None, 60, 80, 256)  16640       ['conv2_block2_2_relu[0][0]']    \n",
      "                                                                                                  \n",
      " conv2_block2_3_bn (BatchNormal  (None, 60, 80, 256)  1024       ['conv2_block2_3_conv[0][0]']    \n",
      " ization)                                                                                         \n",
      "                                                                                                  \n",
      " conv2_block2_add (Add)         (None, 60, 80, 256)  0           ['conv2_block1_out[0][0]',       \n",
      "                                                                  'conv2_block2_3_bn[0][0]']      \n",
      "                                                                                                  \n",
      " conv2_block2_out (Activation)  (None, 60, 80, 256)  0           ['conv2_block2_add[0][0]']       \n",
      "                                                                                                  \n",
      " conv2_block3_1_conv (Conv2D)   (None, 60, 80, 64)   16448       ['conv2_block2_out[0][0]']       \n",
      "                                                                                                  \n",
      " conv2_block3_1_bn (BatchNormal  (None, 60, 80, 64)  256         ['conv2_block3_1_conv[0][0]']    \n",
      " ization)                                                                                         \n",
      "                                                                                                  \n",
      " conv2_block3_1_relu (Activatio  (None, 60, 80, 64)  0           ['conv2_block3_1_bn[0][0]']      \n",
      " n)                                                                                               \n",
      "                                                                                                  \n",
      " conv2_block3_2_conv (Conv2D)   (None, 60, 80, 64)   36928       ['conv2_block3_1_relu[0][0]']    \n",
      "                                                                                                  \n",
      " conv2_block3_2_bn (BatchNormal  (None, 60, 80, 64)  256         ['conv2_block3_2_conv[0][0]']    \n",
      " ization)                                                                                         \n",
      "                                                                                                  \n",
      " conv2_block3_2_relu (Activatio  (None, 60, 80, 64)  0           ['conv2_block3_2_bn[0][0]']      \n",
      " n)                                                                                               \n",
      "                                                                                                  \n",
      " conv2_block3_3_conv (Conv2D)   (None, 60, 80, 256)  16640       ['conv2_block3_2_relu[0][0]']    \n",
      "                                                                                                  \n",
      " conv2_block3_3_bn (BatchNormal  (None, 60, 80, 256)  1024       ['conv2_block3_3_conv[0][0]']    \n",
      " ization)                                                                                         \n",
      "                                                                                                  \n",
      " conv2_block3_add (Add)         (None, 60, 80, 256)  0           ['conv2_block2_out[0][0]',       \n",
      "                                                                  'conv2_block3_3_bn[0][0]']      \n",
      "                                                                                                  \n",
      " conv2_block3_out (Activation)  (None, 60, 80, 256)  0           ['conv2_block3_add[0][0]']       \n",
      "                                                                                                  \n",
      " conv3_block1_1_conv (Conv2D)   (None, 30, 40, 128)  32896       ['conv2_block3_out[0][0]']       \n",
      "                                                                                                  \n",
      " conv3_block1_1_bn (BatchNormal  (None, 30, 40, 128)  512        ['conv3_block1_1_conv[0][0]']    \n",
      " ization)                                                                                         \n",
      "                                                                                                  \n",
      " conv3_block1_1_relu (Activatio  (None, 30, 40, 128)  0          ['conv3_block1_1_bn[0][0]']      \n",
      " n)                                                                                               \n",
      "                                                                                                  \n",
      " conv3_block1_2_conv (Conv2D)   (None, 30, 40, 128)  147584      ['conv3_block1_1_relu[0][0]']    \n",
      "                                                                                                  \n",
      " conv3_block1_2_bn (BatchNormal  (None, 30, 40, 128)  512        ['conv3_block1_2_conv[0][0]']    \n",
      " ization)                                                                                         \n",
      "                                                                                                  \n",
      " conv3_block1_2_relu (Activatio  (None, 30, 40, 128)  0          ['conv3_block1_2_bn[0][0]']      \n",
      " n)                                                                                               \n",
      "                                                                                                  \n",
      " conv3_block1_0_conv (Conv2D)   (None, 30, 40, 512)  131584      ['conv2_block3_out[0][0]']       \n",
      "                                                                                                  \n",
      " conv3_block1_3_conv (Conv2D)   (None, 30, 40, 512)  66048       ['conv3_block1_2_relu[0][0]']    \n",
      "                                                                                                  \n",
      " conv3_block1_0_bn (BatchNormal  (None, 30, 40, 512)  2048       ['conv3_block1_0_conv[0][0]']    \n",
      " ization)                                                                                         \n",
      "                                                                                                  \n",
      " conv3_block1_3_bn (BatchNormal  (None, 30, 40, 512)  2048       ['conv3_block1_3_conv[0][0]']    \n",
      " ization)                                                                                         \n",
      "                                                                                                  \n",
      " conv3_block1_add (Add)         (None, 30, 40, 512)  0           ['conv3_block1_0_bn[0][0]',      \n",
      "                                                                  'conv3_block1_3_bn[0][0]']      \n",
      "                                                                                                  \n",
      " conv3_block1_out (Activation)  (None, 30, 40, 512)  0           ['conv3_block1_add[0][0]']       \n",
      "                                                                                                  \n",
      " conv3_block2_1_conv (Conv2D)   (None, 30, 40, 128)  65664       ['conv3_block1_out[0][0]']       \n",
      "                                                                                                  \n",
      " conv3_block2_1_bn (BatchNormal  (None, 30, 40, 128)  512        ['conv3_block2_1_conv[0][0]']    \n",
      " ization)                                                                                         \n",
      "                                                                                                  \n",
      " conv3_block2_1_relu (Activatio  (None, 30, 40, 128)  0          ['conv3_block2_1_bn[0][0]']      \n",
      " n)                                                                                               \n",
      "                                                                                                  \n",
      " conv3_block2_2_conv (Conv2D)   (None, 30, 40, 128)  147584      ['conv3_block2_1_relu[0][0]']    \n",
      "                                                                                                  \n",
      " conv3_block2_2_bn (BatchNormal  (None, 30, 40, 128)  512        ['conv3_block2_2_conv[0][0]']    \n",
      " ization)                                                                                         \n",
      "                                                                                                  \n",
      " conv3_block2_2_relu (Activatio  (None, 30, 40, 128)  0          ['conv3_block2_2_bn[0][0]']      \n",
      " n)                                                                                               \n",
      "                                                                                                  \n",
      " conv3_block2_3_conv (Conv2D)   (None, 30, 40, 512)  66048       ['conv3_block2_2_relu[0][0]']    \n",
      "                                                                                                  \n",
      " conv3_block2_3_bn (BatchNormal  (None, 30, 40, 512)  2048       ['conv3_block2_3_conv[0][0]']    \n",
      " ization)                                                                                         \n",
      "                                                                                                  \n",
      " conv3_block2_add (Add)         (None, 30, 40, 512)  0           ['conv3_block1_out[0][0]',       \n",
      "                                                                  'conv3_block2_3_bn[0][0]']      \n",
      "                                                                                                  \n",
      " conv3_block2_out (Activation)  (None, 30, 40, 512)  0           ['conv3_block2_add[0][0]']       \n",
      "                                                                                                  \n",
      " conv3_block3_1_conv (Conv2D)   (None, 30, 40, 128)  65664       ['conv3_block2_out[0][0]']       \n",
      "                                                                                                  \n",
      " conv3_block3_1_bn (BatchNormal  (None, 30, 40, 128)  512        ['conv3_block3_1_conv[0][0]']    \n",
      " ization)                                                                                         \n",
      "                                                                                                  \n",
      " conv3_block3_1_relu (Activatio  (None, 30, 40, 128)  0          ['conv3_block3_1_bn[0][0]']      \n",
      " n)                                                                                               \n",
      "                                                                                                  \n",
      " conv3_block3_2_conv (Conv2D)   (None, 30, 40, 128)  147584      ['conv3_block3_1_relu[0][0]']    \n",
      "                                                                                                  \n",
      " conv3_block3_2_bn (BatchNormal  (None, 30, 40, 128)  512        ['conv3_block3_2_conv[0][0]']    \n",
      " ization)                                                                                         \n",
      "                                                                                                  \n",
      " conv3_block3_2_relu (Activatio  (None, 30, 40, 128)  0          ['conv3_block3_2_bn[0][0]']      \n",
      " n)                                                                                               \n",
      "                                                                                                  \n",
      " conv3_block3_3_conv (Conv2D)   (None, 30, 40, 512)  66048       ['conv3_block3_2_relu[0][0]']    \n",
      "                                                                                                  \n",
      " conv3_block3_3_bn (BatchNormal  (None, 30, 40, 512)  2048       ['conv3_block3_3_conv[0][0]']    \n",
      " ization)                                                                                         \n",
      "                                                                                                  \n",
      " conv3_block3_add (Add)         (None, 30, 40, 512)  0           ['conv3_block2_out[0][0]',       \n",
      "                                                                  'conv3_block3_3_bn[0][0]']      \n",
      "                                                                                                  \n",
      " conv3_block3_out (Activation)  (None, 30, 40, 512)  0           ['conv3_block3_add[0][0]']       \n",
      "                                                                                                  \n",
      " conv3_block4_1_conv (Conv2D)   (None, 30, 40, 128)  65664       ['conv3_block3_out[0][0]']       \n",
      "                                                                                                  \n",
      " conv3_block4_1_bn (BatchNormal  (None, 30, 40, 128)  512        ['conv3_block4_1_conv[0][0]']    \n",
      " ization)                                                                                         \n",
      "                                                                                                  \n",
      " conv3_block4_1_relu (Activatio  (None, 30, 40, 128)  0          ['conv3_block4_1_bn[0][0]']      \n",
      " n)                                                                                               \n",
      "                                                                                                  \n",
      " conv3_block4_2_conv (Conv2D)   (None, 30, 40, 128)  147584      ['conv3_block4_1_relu[0][0]']    \n",
      "                                                                                                  \n",
      " conv3_block4_2_bn (BatchNormal  (None, 30, 40, 128)  512        ['conv3_block4_2_conv[0][0]']    \n",
      " ization)                                                                                         \n",
      "                                                                                                  \n",
      " conv3_block4_2_relu (Activatio  (None, 30, 40, 128)  0          ['conv3_block4_2_bn[0][0]']      \n",
      " n)                                                                                               \n",
      "                                                                                                  \n",
      " conv3_block4_3_conv (Conv2D)   (None, 30, 40, 512)  66048       ['conv3_block4_2_relu[0][0]']    \n",
      "                                                                                                  \n",
      " conv3_block4_3_bn (BatchNormal  (None, 30, 40, 512)  2048       ['conv3_block4_3_conv[0][0]']    \n",
      " ization)                                                                                         \n",
      "                                                                                                  \n",
      " conv3_block4_add (Add)         (None, 30, 40, 512)  0           ['conv3_block3_out[0][0]',       \n",
      "                                                                  'conv3_block4_3_bn[0][0]']      \n",
      "                                                                                                  \n",
      " conv3_block4_out (Activation)  (None, 30, 40, 512)  0           ['conv3_block4_add[0][0]']       \n",
      "                                                                                                  \n",
      " conv4_block1_1_conv (Conv2D)   (None, 15, 20, 256)  131328      ['conv3_block4_out[0][0]']       \n",
      "                                                                                                  \n",
      " conv4_block1_1_bn (BatchNormal  (None, 15, 20, 256)  1024       ['conv4_block1_1_conv[0][0]']    \n",
      " ization)                                                                                         \n",
      "                                                                                                  \n",
      " conv4_block1_1_relu (Activatio  (None, 15, 20, 256)  0          ['conv4_block1_1_bn[0][0]']      \n",
      " n)                                                                                               \n",
      "                                                                                                  \n",
      " conv4_block1_2_conv (Conv2D)   (None, 15, 20, 256)  590080      ['conv4_block1_1_relu[0][0]']    \n",
      "                                                                                                  \n",
      " conv4_block1_2_bn (BatchNormal  (None, 15, 20, 256)  1024       ['conv4_block1_2_conv[0][0]']    \n",
      " ization)                                                                                         \n",
      "                                                                                                  \n",
      " conv4_block1_2_relu (Activatio  (None, 15, 20, 256)  0          ['conv4_block1_2_bn[0][0]']      \n",
      " n)                                                                                               \n",
      "                                                                                                  \n",
      " conv4_block1_0_conv (Conv2D)   (None, 15, 20, 1024  525312      ['conv3_block4_out[0][0]']       \n",
      "                                )                                                                 \n",
      "                                                                                                  \n",
      " conv4_block1_3_conv (Conv2D)   (None, 15, 20, 1024  263168      ['conv4_block1_2_relu[0][0]']    \n",
      "                                )                                                                 \n",
      "                                                                                                  \n",
      " conv4_block1_0_bn (BatchNormal  (None, 15, 20, 1024  4096       ['conv4_block1_0_conv[0][0]']    \n",
      " ization)                       )                                                                 \n",
      "                                                                                                  \n",
      " conv4_block1_3_bn (BatchNormal  (None, 15, 20, 1024  4096       ['conv4_block1_3_conv[0][0]']    \n",
      " ization)                       )                                                                 \n",
      "                                                                                                  \n",
      " conv4_block1_add (Add)         (None, 15, 20, 1024  0           ['conv4_block1_0_bn[0][0]',      \n",
      "                                )                                 'conv4_block1_3_bn[0][0]']      \n",
      "                                                                                                  \n",
      " conv4_block1_out (Activation)  (None, 15, 20, 1024  0           ['conv4_block1_add[0][0]']       \n",
      "                                )                                                                 \n",
      "                                                                                                  \n",
      " conv4_block2_1_conv (Conv2D)   (None, 15, 20, 256)  262400      ['conv4_block1_out[0][0]']       \n",
      "                                                                                                  \n",
      " conv4_block2_1_bn (BatchNormal  (None, 15, 20, 256)  1024       ['conv4_block2_1_conv[0][0]']    \n",
      " ization)                                                                                         \n",
      "                                                                                                  \n",
      " conv4_block2_1_relu (Activatio  (None, 15, 20, 256)  0          ['conv4_block2_1_bn[0][0]']      \n",
      " n)                                                                                               \n",
      "                                                                                                  \n",
      " conv4_block2_2_conv (Conv2D)   (None, 15, 20, 256)  590080      ['conv4_block2_1_relu[0][0]']    \n",
      "                                                                                                  \n",
      " conv4_block2_2_bn (BatchNormal  (None, 15, 20, 256)  1024       ['conv4_block2_2_conv[0][0]']    \n",
      " ization)                                                                                         \n",
      "                                                                                                  \n",
      " conv4_block2_2_relu (Activatio  (None, 15, 20, 256)  0          ['conv4_block2_2_bn[0][0]']      \n",
      " n)                                                                                               \n",
      "                                                                                                  \n",
      " conv4_block2_3_conv (Conv2D)   (None, 15, 20, 1024  263168      ['conv4_block2_2_relu[0][0]']    \n",
      "                                )                                                                 \n",
      "                                                                                                  \n",
      " conv4_block2_3_bn (BatchNormal  (None, 15, 20, 1024  4096       ['conv4_block2_3_conv[0][0]']    \n",
      " ization)                       )                                                                 \n",
      "                                                                                                  \n",
      " conv4_block2_add (Add)         (None, 15, 20, 1024  0           ['conv4_block1_out[0][0]',       \n",
      "                                )                                 'conv4_block2_3_bn[0][0]']      \n",
      "                                                                                                  \n",
      " conv4_block2_out (Activation)  (None, 15, 20, 1024  0           ['conv4_block2_add[0][0]']       \n",
      "                                )                                                                 \n",
      "                                                                                                  \n",
      " conv4_block3_1_conv (Conv2D)   (None, 15, 20, 256)  262400      ['conv4_block2_out[0][0]']       \n",
      "                                                                                                  \n",
      " conv4_block3_1_bn (BatchNormal  (None, 15, 20, 256)  1024       ['conv4_block3_1_conv[0][0]']    \n",
      " ization)                                                                                         \n",
      "                                                                                                  \n",
      " conv4_block3_1_relu (Activatio  (None, 15, 20, 256)  0          ['conv4_block3_1_bn[0][0]']      \n",
      " n)                                                                                               \n",
      "                                                                                                  \n",
      " conv4_block3_2_conv (Conv2D)   (None, 15, 20, 256)  590080      ['conv4_block3_1_relu[0][0]']    \n",
      "                                                                                                  \n",
      " conv4_block3_2_bn (BatchNormal  (None, 15, 20, 256)  1024       ['conv4_block3_2_conv[0][0]']    \n",
      " ization)                                                                                         \n",
      "                                                                                                  \n",
      " conv4_block3_2_relu (Activatio  (None, 15, 20, 256)  0          ['conv4_block3_2_bn[0][0]']      \n",
      " n)                                                                                               \n",
      "                                                                                                  \n",
      " conv4_block3_3_conv (Conv2D)   (None, 15, 20, 1024  263168      ['conv4_block3_2_relu[0][0]']    \n",
      "                                )                                                                 \n",
      "                                                                                                  \n",
      " conv4_block3_3_bn (BatchNormal  (None, 15, 20, 1024  4096       ['conv4_block3_3_conv[0][0]']    \n",
      " ization)                       )                                                                 \n",
      "                                                                                                  \n",
      " conv4_block3_add (Add)         (None, 15, 20, 1024  0           ['conv4_block2_out[0][0]',       \n",
      "                                )                                 'conv4_block3_3_bn[0][0]']      \n",
      "                                                                                                  \n",
      " conv4_block3_out (Activation)  (None, 15, 20, 1024  0           ['conv4_block3_add[0][0]']       \n",
      "                                )                                                                 \n",
      "                                                                                                  \n",
      " conv4_block4_1_conv (Conv2D)   (None, 15, 20, 256)  262400      ['conv4_block3_out[0][0]']       \n",
      "                                                                                                  \n",
      " conv4_block4_1_bn (BatchNormal  (None, 15, 20, 256)  1024       ['conv4_block4_1_conv[0][0]']    \n",
      " ization)                                                                                         \n",
      "                                                                                                  \n",
      " conv4_block4_1_relu (Activatio  (None, 15, 20, 256)  0          ['conv4_block4_1_bn[0][0]']      \n",
      " n)                                                                                               \n",
      "                                                                                                  \n",
      " conv4_block4_2_conv (Conv2D)   (None, 15, 20, 256)  590080      ['conv4_block4_1_relu[0][0]']    \n",
      "                                                                                                  \n",
      " conv4_block4_2_bn (BatchNormal  (None, 15, 20, 256)  1024       ['conv4_block4_2_conv[0][0]']    \n",
      " ization)                                                                                         \n",
      "                                                                                                  \n",
      " conv4_block4_2_relu (Activatio  (None, 15, 20, 256)  0          ['conv4_block4_2_bn[0][0]']      \n",
      " n)                                                                                               \n",
      "                                                                                                  \n",
      " conv4_block4_3_conv (Conv2D)   (None, 15, 20, 1024  263168      ['conv4_block4_2_relu[0][0]']    \n",
      "                                )                                                                 \n",
      "                                                                                                  \n",
      " conv4_block4_3_bn (BatchNormal  (None, 15, 20, 1024  4096       ['conv4_block4_3_conv[0][0]']    \n",
      " ization)                       )                                                                 \n",
      "                                                                                                  \n",
      " conv4_block4_add (Add)         (None, 15, 20, 1024  0           ['conv4_block3_out[0][0]',       \n",
      "                                )                                 'conv4_block4_3_bn[0][0]']      \n",
      "                                                                                                  \n",
      " conv4_block4_out (Activation)  (None, 15, 20, 1024  0           ['conv4_block4_add[0][0]']       \n",
      "                                )                                                                 \n",
      "                                                                                                  \n",
      " conv4_block5_1_conv (Conv2D)   (None, 15, 20, 256)  262400      ['conv4_block4_out[0][0]']       \n",
      "                                                                                                  \n",
      " conv4_block5_1_bn (BatchNormal  (None, 15, 20, 256)  1024       ['conv4_block5_1_conv[0][0]']    \n",
      " ization)                                                                                         \n",
      "                                                                                                  \n",
      " conv4_block5_1_relu (Activatio  (None, 15, 20, 256)  0          ['conv4_block5_1_bn[0][0]']      \n",
      " n)                                                                                               \n",
      "                                                                                                  \n",
      " conv4_block5_2_conv (Conv2D)   (None, 15, 20, 256)  590080      ['conv4_block5_1_relu[0][0]']    \n",
      "                                                                                                  \n",
      " conv4_block5_2_bn (BatchNormal  (None, 15, 20, 256)  1024       ['conv4_block5_2_conv[0][0]']    \n",
      " ization)                                                                                         \n",
      "                                                                                                  \n",
      " conv4_block5_2_relu (Activatio  (None, 15, 20, 256)  0          ['conv4_block5_2_bn[0][0]']      \n",
      " n)                                                                                               \n",
      "                                                                                                  \n",
      " conv4_block5_3_conv (Conv2D)   (None, 15, 20, 1024  263168      ['conv4_block5_2_relu[0][0]']    \n",
      "                                )                                                                 \n",
      "                                                                                                  \n",
      " conv4_block5_3_bn (BatchNormal  (None, 15, 20, 1024  4096       ['conv4_block5_3_conv[0][0]']    \n",
      " ization)                       )                                                                 \n",
      "                                                                                                  \n",
      " conv4_block5_add (Add)         (None, 15, 20, 1024  0           ['conv4_block4_out[0][0]',       \n",
      "                                )                                 'conv4_block5_3_bn[0][0]']      \n",
      "                                                                                                  \n",
      " conv4_block5_out (Activation)  (None, 15, 20, 1024  0           ['conv4_block5_add[0][0]']       \n",
      "                                )                                                                 \n",
      "                                                                                                  \n",
      " conv4_block6_1_conv (Conv2D)   (None, 15, 20, 256)  262400      ['conv4_block5_out[0][0]']       \n",
      "                                                                                                  \n",
      " conv4_block6_1_bn (BatchNormal  (None, 15, 20, 256)  1024       ['conv4_block6_1_conv[0][0]']    \n",
      " ization)                                                                                         \n",
      "                                                                                                  \n",
      " conv4_block6_1_relu (Activatio  (None, 15, 20, 256)  0          ['conv4_block6_1_bn[0][0]']      \n",
      " n)                                                                                               \n",
      "                                                                                                  \n",
      " conv4_block6_2_conv (Conv2D)   (None, 15, 20, 256)  590080      ['conv4_block6_1_relu[0][0]']    \n",
      "                                                                                                  \n",
      " conv4_block6_2_bn (BatchNormal  (None, 15, 20, 256)  1024       ['conv4_block6_2_conv[0][0]']    \n",
      " ization)                                                                                         \n",
      "                                                                                                  \n",
      " conv4_block6_2_relu (Activatio  (None, 15, 20, 256)  0          ['conv4_block6_2_bn[0][0]']      \n",
      " n)                                                                                               \n",
      "                                                                                                  \n",
      " conv4_block6_3_conv (Conv2D)   (None, 15, 20, 1024  263168      ['conv4_block6_2_relu[0][0]']    \n",
      "                                )                                                                 \n",
      "                                                                                                  \n",
      " conv4_block6_3_bn (BatchNormal  (None, 15, 20, 1024  4096       ['conv4_block6_3_conv[0][0]']    \n",
      " ization)                       )                                                                 \n",
      "                                                                                                  \n",
      " conv4_block6_add (Add)         (None, 15, 20, 1024  0           ['conv4_block5_out[0][0]',       \n",
      "                                )                                 'conv4_block6_3_bn[0][0]']      \n",
      "                                                                                                  \n",
      " conv4_block6_out (Activation)  (None, 15, 20, 1024  0           ['conv4_block6_add[0][0]']       \n",
      "                                )                                                                 \n",
      "                                                                                                  \n",
      " conv5_block1_1_conv (Conv2D)   (None, 8, 10, 512)   524800      ['conv4_block6_out[0][0]']       \n",
      "                                                                                                  \n",
      " conv5_block1_1_bn (BatchNormal  (None, 8, 10, 512)  2048        ['conv5_block1_1_conv[0][0]']    \n",
      " ization)                                                                                         \n",
      "                                                                                                  \n",
      " conv5_block1_1_relu (Activatio  (None, 8, 10, 512)  0           ['conv5_block1_1_bn[0][0]']      \n",
      " n)                                                                                               \n",
      "                                                                                                  \n",
      " conv5_block1_2_conv (Conv2D)   (None, 8, 10, 512)   2359808     ['conv5_block1_1_relu[0][0]']    \n",
      "                                                                                                  \n",
      " conv5_block1_2_bn (BatchNormal  (None, 8, 10, 512)  2048        ['conv5_block1_2_conv[0][0]']    \n",
      " ization)                                                                                         \n",
      "                                                                                                  \n",
      " conv5_block1_2_relu (Activatio  (None, 8, 10, 512)  0           ['conv5_block1_2_bn[0][0]']      \n",
      " n)                                                                                               \n",
      "                                                                                                  \n",
      " conv5_block1_0_conv (Conv2D)   (None, 8, 10, 2048)  2099200     ['conv4_block6_out[0][0]']       \n",
      "                                                                                                  \n",
      " conv5_block1_3_conv (Conv2D)   (None, 8, 10, 2048)  1050624     ['conv5_block1_2_relu[0][0]']    \n",
      "                                                                                                  \n",
      " conv5_block1_0_bn (BatchNormal  (None, 8, 10, 2048)  8192       ['conv5_block1_0_conv[0][0]']    \n",
      " ization)                                                                                         \n",
      "                                                                                                  \n",
      " conv5_block1_3_bn (BatchNormal  (None, 8, 10, 2048)  8192       ['conv5_block1_3_conv[0][0]']    \n",
      " ization)                                                                                         \n",
      "                                                                                                  \n",
      " conv5_block1_add (Add)         (None, 8, 10, 2048)  0           ['conv5_block1_0_bn[0][0]',      \n",
      "                                                                  'conv5_block1_3_bn[0][0]']      \n",
      "                                                                                                  \n",
      " conv5_block1_out (Activation)  (None, 8, 10, 2048)  0           ['conv5_block1_add[0][0]']       \n",
      "                                                                                                  \n",
      " conv5_block2_1_conv (Conv2D)   (None, 8, 10, 512)   1049088     ['conv5_block1_out[0][0]']       \n",
      "                                                                                                  \n",
      " conv5_block2_1_bn (BatchNormal  (None, 8, 10, 512)  2048        ['conv5_block2_1_conv[0][0]']    \n",
      " ization)                                                                                         \n",
      "                                                                                                  \n",
      " conv5_block2_1_relu (Activatio  (None, 8, 10, 512)  0           ['conv5_block2_1_bn[0][0]']      \n",
      " n)                                                                                               \n",
      "                                                                                                  \n",
      " conv5_block2_2_conv (Conv2D)   (None, 8, 10, 512)   2359808     ['conv5_block2_1_relu[0][0]']    \n",
      "                                                                                                  \n",
      " conv5_block2_2_bn (BatchNormal  (None, 8, 10, 512)  2048        ['conv5_block2_2_conv[0][0]']    \n",
      " ization)                                                                                         \n",
      "                                                                                                  \n",
      " conv5_block2_2_relu (Activatio  (None, 8, 10, 512)  0           ['conv5_block2_2_bn[0][0]']      \n",
      " n)                                                                                               \n",
      "                                                                                                  \n",
      " conv5_block2_3_conv (Conv2D)   (None, 8, 10, 2048)  1050624     ['conv5_block2_2_relu[0][0]']    \n",
      "                                                                                                  \n",
      " conv5_block2_3_bn (BatchNormal  (None, 8, 10, 2048)  8192       ['conv5_block2_3_conv[0][0]']    \n",
      " ization)                                                                                         \n",
      "                                                                                                  \n",
      " conv5_block2_add (Add)         (None, 8, 10, 2048)  0           ['conv5_block1_out[0][0]',       \n",
      "                                                                  'conv5_block2_3_bn[0][0]']      \n",
      "                                                                                                  \n",
      " conv5_block2_out (Activation)  (None, 8, 10, 2048)  0           ['conv5_block2_add[0][0]']       \n",
      "                                                                                                  \n",
      " conv5_block3_1_conv (Conv2D)   (None, 8, 10, 512)   1049088     ['conv5_block2_out[0][0]']       \n",
      "                                                                                                  \n",
      " conv5_block3_1_bn (BatchNormal  (None, 8, 10, 512)  2048        ['conv5_block3_1_conv[0][0]']    \n",
      " ization)                                                                                         \n",
      "                                                                                                  \n",
      " conv5_block3_1_relu (Activatio  (None, 8, 10, 512)  0           ['conv5_block3_1_bn[0][0]']      \n",
      " n)                                                                                               \n",
      "                                                                                                  \n",
      " conv5_block3_2_conv (Conv2D)   (None, 8, 10, 512)   2359808     ['conv5_block3_1_relu[0][0]']    \n",
      "                                                                                                  \n",
      " conv5_block3_2_bn (BatchNormal  (None, 8, 10, 512)  2048        ['conv5_block3_2_conv[0][0]']    \n",
      " ization)                                                                                         \n",
      "                                                                                                  \n",
      " conv5_block3_2_relu (Activatio  (None, 8, 10, 512)  0           ['conv5_block3_2_bn[0][0]']      \n",
      " n)                                                                                               \n",
      "                                                                                                  \n",
      " conv5_block3_3_conv (Conv2D)   (None, 8, 10, 2048)  1050624     ['conv5_block3_2_relu[0][0]']    \n",
      "                                                                                                  \n",
      " conv5_block3_3_bn (BatchNormal  (None, 8, 10, 2048)  8192       ['conv5_block3_3_conv[0][0]']    \n",
      " ization)                                                                                         \n",
      "                                                                                                  \n",
      " conv5_block3_add (Add)         (None, 8, 10, 2048)  0           ['conv5_block2_out[0][0]',       \n",
      "                                                                  'conv5_block3_3_bn[0][0]']      \n",
      "                                                                                                  \n",
      " conv5_block3_out (Activation)  (None, 8, 10, 2048)  0           ['conv5_block3_add[0][0]']       \n",
      "                                                                                                  \n",
      " avg_pool (GlobalAveragePooling  (None, 2048)        0           ['conv5_block3_out[0][0]']       \n",
      " 2D)                                                                                              \n",
      "                                                                                                  \n",
      " dense (Dense)                  (None, 5)            10245       ['avg_pool[0][0]']               \n",
      "                                                                                                  \n",
      "==================================================================================================\n",
      "Total params: 23,597,957\n",
      "Trainable params: 23,544,837\n",
      "Non-trainable params: 53,120\n",
      "__________________________________________________________________________________________________\n"
     ]
    }
   ],
   "source": [
    "import keras\n",
    "from tensorflow.keras.applications.resnet50 import ResNet50\n",
    "from keras.models import Model\n",
    "from keras.callbacks import EarlyStopping, ModelCheckpoint \n",
    "from keras.optimizers import Adam\n",
    "import warnings\n",
    "warnings.filterwarnings('ignore')\n",
    "\n",
    "# 以 ResNet50 為基礎來建立模型(遷移學習)\n",
    "# 參考資料: ResNet: https://zhuanlan.zhihu.com/p/31502877\n",
    "resnet = ResNet50(input_shape=(240, 320, 3), weights=\"imagenet\", pooling='avg', include_top=False)\n",
    "# 增加 Dense Layer , 設定此模型5種分類的output , 並以 softmax 產生各類別的機率值\n",
    "output = keras.layers.Dense(5, activation=\"softmax\")(resnet.output)\n",
    "model = Model(inputs=[resnet.input], outputs=[output])\n",
    "\n",
    "model.summary()\n",
    "    \n",
    "# 使用 Adam optimizer, 使用固定的 learning rate \n",
    "model.compile(loss=\"categorical_crossentropy\",\n",
    "       optimizer=Adam(lr=1e-5),\n",
    "       metrics=[\"accuracy\"])"
   ]
  },
  {
   "cell_type": "code",
   "execution_count": 6,
   "id": "48e8ffaa",
   "metadata": {
    "executionInfo": {
     "elapsed": 697,
     "status": "ok",
     "timestamp": 1669649174539,
     "user": {
      "displayName": "冠妤 Irene",
      "userId": "16904149191061800627"
     },
     "user_tz": -480
    },
    "id": "48e8ffaa"
   },
   "outputs": [],
   "source": [
    "early_stopping_1 = EarlyStopping(monitor=\"val_accuracy\", patience=20)\n",
    "model_checkpoint_1 = ModelCheckpoint(\"best_model_1.h5\", monitor=\"val_accuracy\", save_best_only=True)"
   ]
  },
  {
   "cell_type": "code",
   "execution_count": 7,
   "id": "22bbe43a",
   "metadata": {
    "colab": {
     "base_uri": "https://localhost:8080/"
    },
    "executionInfo": {
     "elapsed": 3288539,
     "status": "ok",
     "timestamp": 1669652496858,
     "user": {
      "displayName": "冠妤 Irene",
      "userId": "16904149191061800627"
     },
     "user_tz": -480
    },
    "id": "22bbe43a",
    "outputId": "c20528fc-519e-4bf1-be0a-f5920601d487"
   },
   "outputs": [
    {
     "name": "stdout",
     "output_type": "stream",
     "text": [
      "Epoch 1/100\n",
      "70/70 [==============================] - 214s 3s/step - loss: 1.2438 - accuracy: 0.4955 - val_loss: 0.6999 - val_accuracy: 0.7426\n",
      "Epoch 2/100\n",
      "70/70 [==============================] - 60s 765ms/step - loss: 0.5785 - accuracy: 0.8151 - val_loss: 0.3974 - val_accuracy: 0.8732\n",
      "Epoch 3/100\n",
      "70/70 [==============================] - 62s 816ms/step - loss: 0.3930 - accuracy: 0.8775 - val_loss: 0.3351 - val_accuracy: 0.8787\n",
      "Epoch 4/100\n",
      "70/70 [==============================] - 59s 776ms/step - loss: 0.2969 - accuracy: 0.9080 - val_loss: 0.2878 - val_accuracy: 0.9099\n",
      "Epoch 5/100\n",
      "70/70 [==============================] - 59s 774ms/step - loss: 0.2230 - accuracy: 0.9300 - val_loss: 0.2714 - val_accuracy: 0.9118\n",
      "Epoch 6/100\n",
      "70/70 [==============================] - 57s 728ms/step - loss: 0.1937 - accuracy: 0.9399 - val_loss: 0.2576 - val_accuracy: 0.9118\n",
      "Epoch 7/100\n",
      "70/70 [==============================] - 58s 764ms/step - loss: 0.1563 - accuracy: 0.9551 - val_loss: 0.2546 - val_accuracy: 0.9136\n",
      "Epoch 8/100\n",
      "70/70 [==============================] - 60s 799ms/step - loss: 0.1341 - accuracy: 0.9650 - val_loss: 0.2282 - val_accuracy: 0.9283\n",
      "Epoch 9/100\n",
      "70/70 [==============================] - 57s 752ms/step - loss: 0.1090 - accuracy: 0.9735 - val_loss: 0.2450 - val_accuracy: 0.9154\n",
      "Epoch 10/100\n",
      "70/70 [==============================] - 58s 731ms/step - loss: 0.0932 - accuracy: 0.9758 - val_loss: 0.2388 - val_accuracy: 0.9228\n",
      "Epoch 11/100\n",
      "70/70 [==============================] - 59s 775ms/step - loss: 0.0743 - accuracy: 0.9816 - val_loss: 0.2213 - val_accuracy: 0.9338\n",
      "Epoch 12/100\n",
      "70/70 [==============================] - 58s 735ms/step - loss: 0.0675 - accuracy: 0.9861 - val_loss: 0.2306 - val_accuracy: 0.9320\n",
      "Epoch 13/100\n",
      "70/70 [==============================] - 59s 747ms/step - loss: 0.0544 - accuracy: 0.9901 - val_loss: 0.2534 - val_accuracy: 0.9210\n",
      "Epoch 14/100\n",
      "70/70 [==============================] - 57s 735ms/step - loss: 0.0549 - accuracy: 0.9870 - val_loss: 0.2119 - val_accuracy: 0.9338\n",
      "Epoch 15/100\n",
      "70/70 [==============================] - 57s 743ms/step - loss: 0.0383 - accuracy: 0.9942 - val_loss: 0.2353 - val_accuracy: 0.9338\n",
      "Epoch 16/100\n",
      "70/70 [==============================] - 57s 754ms/step - loss: 0.0344 - accuracy: 0.9910 - val_loss: 0.2410 - val_accuracy: 0.9228\n",
      "Epoch 17/100\n",
      "70/70 [==============================] - 56s 745ms/step - loss: 0.0308 - accuracy: 0.9937 - val_loss: 0.2543 - val_accuracy: 0.9228\n",
      "Epoch 18/100\n",
      "70/70 [==============================] - 60s 768ms/step - loss: 0.0314 - accuracy: 0.9942 - val_loss: 0.2299 - val_accuracy: 0.9357\n",
      "Epoch 19/100\n",
      "70/70 [==============================] - 57s 750ms/step - loss: 0.0240 - accuracy: 0.9964 - val_loss: 0.2194 - val_accuracy: 0.9357\n",
      "Epoch 20/100\n",
      "70/70 [==============================] - 57s 725ms/step - loss: 0.0269 - accuracy: 0.9946 - val_loss: 0.2142 - val_accuracy: 0.9320\n",
      "Epoch 21/100\n",
      "70/70 [==============================] - 57s 729ms/step - loss: 0.0210 - accuracy: 0.9960 - val_loss: 0.2789 - val_accuracy: 0.9191\n",
      "Epoch 22/100\n",
      "70/70 [==============================] - 57s 751ms/step - loss: 0.0194 - accuracy: 0.9955 - val_loss: 0.2457 - val_accuracy: 0.9301\n",
      "Epoch 23/100\n",
      "70/70 [==============================] - 59s 779ms/step - loss: 0.0226 - accuracy: 0.9951 - val_loss: 0.2588 - val_accuracy: 0.9375\n",
      "Epoch 24/100\n",
      "70/70 [==============================] - 56s 714ms/step - loss: 0.0138 - accuracy: 0.9978 - val_loss: 0.2291 - val_accuracy: 0.9357\n",
      "Epoch 25/100\n",
      "70/70 [==============================] - 56s 719ms/step - loss: 0.0140 - accuracy: 0.9978 - val_loss: 0.2343 - val_accuracy: 0.9357\n",
      "Epoch 26/100\n",
      "70/70 [==============================] - 57s 738ms/step - loss: 0.0150 - accuracy: 0.9969 - val_loss: 0.2285 - val_accuracy: 0.9393\n",
      "Epoch 27/100\n",
      "70/70 [==============================] - 57s 753ms/step - loss: 0.0199 - accuracy: 0.9942 - val_loss: 0.2570 - val_accuracy: 0.9467\n",
      "Epoch 28/100\n",
      "70/70 [==============================] - 68s 877ms/step - loss: 0.0153 - accuracy: 0.9978 - val_loss: 0.2836 - val_accuracy: 0.9246\n",
      "Epoch 29/100\n",
      "70/70 [==============================] - 57s 746ms/step - loss: 0.0118 - accuracy: 0.9982 - val_loss: 0.2480 - val_accuracy: 0.9320\n",
      "Epoch 30/100\n",
      "70/70 [==============================] - 56s 723ms/step - loss: 0.0148 - accuracy: 0.9969 - val_loss: 0.2030 - val_accuracy: 0.9393\n",
      "Epoch 31/100\n",
      "70/70 [==============================] - 57s 734ms/step - loss: 0.0163 - accuracy: 0.9960 - val_loss: 0.2583 - val_accuracy: 0.9320\n",
      "Epoch 32/100\n",
      "70/70 [==============================] - 58s 765ms/step - loss: 0.0132 - accuracy: 0.9969 - val_loss: 0.2757 - val_accuracy: 0.9338\n",
      "Epoch 33/100\n",
      "70/70 [==============================] - 57s 736ms/step - loss: 0.0087 - accuracy: 0.9987 - val_loss: 0.2655 - val_accuracy: 0.9283\n",
      "Epoch 34/100\n",
      "70/70 [==============================] - 57s 749ms/step - loss: 0.0100 - accuracy: 0.9987 - val_loss: 0.2515 - val_accuracy: 0.9375\n",
      "Epoch 35/100\n",
      "70/70 [==============================] - 57s 744ms/step - loss: 0.0138 - accuracy: 0.9969 - val_loss: 0.2356 - val_accuracy: 0.9265\n",
      "Epoch 36/100\n",
      "70/70 [==============================] - 57s 725ms/step - loss: 0.0074 - accuracy: 0.9991 - val_loss: 0.2529 - val_accuracy: 0.9265\n",
      "Epoch 37/100\n",
      "70/70 [==============================] - 56s 732ms/step - loss: 0.0103 - accuracy: 0.9973 - val_loss: 0.2370 - val_accuracy: 0.9338\n",
      "Epoch 38/100\n",
      "70/70 [==============================] - 57s 727ms/step - loss: 0.0114 - accuracy: 0.9973 - val_loss: 0.2211 - val_accuracy: 0.9412\n",
      "Epoch 39/100\n",
      "70/70 [==============================] - 58s 743ms/step - loss: 0.0072 - accuracy: 0.9987 - val_loss: 0.2375 - val_accuracy: 0.9412\n",
      "Epoch 40/100\n",
      "70/70 [==============================] - 58s 729ms/step - loss: 0.0070 - accuracy: 0.9996 - val_loss: 0.2567 - val_accuracy: 0.9393\n",
      "Epoch 41/100\n",
      "70/70 [==============================] - 59s 777ms/step - loss: 0.0066 - accuracy: 0.9996 - val_loss: 0.2711 - val_accuracy: 0.9449\n",
      "Epoch 42/100\n",
      "70/70 [==============================] - 58s 765ms/step - loss: 0.0055 - accuracy: 0.9991 - val_loss: 0.3028 - val_accuracy: 0.9320\n",
      "Epoch 43/100\n",
      "70/70 [==============================] - 58s 744ms/step - loss: 0.0047 - accuracy: 0.9991 - val_loss: 0.2920 - val_accuracy: 0.9320\n",
      "Epoch 44/100\n",
      "70/70 [==============================] - 58s 737ms/step - loss: 0.0089 - accuracy: 0.9982 - val_loss: 0.2625 - val_accuracy: 0.9430\n",
      "Epoch 45/100\n",
      "70/70 [==============================] - 60s 777ms/step - loss: 0.0094 - accuracy: 0.9987 - val_loss: 0.2946 - val_accuracy: 0.9283\n",
      "Epoch 46/100\n",
      "70/70 [==============================] - 59s 764ms/step - loss: 0.0076 - accuracy: 0.9987 - val_loss: 0.1993 - val_accuracy: 0.9449\n",
      "Epoch 47/100\n",
      "70/70 [==============================] - 58s 740ms/step - loss: 0.0061 - accuracy: 0.9996 - val_loss: 0.2413 - val_accuracy: 0.9430\n"
     ]
    },
    {
     "data": {
      "text/plain": [
       "<keras.callbacks.History at 0x7f7290f23a10>"
      ]
     },
     "execution_count": 7,
     "metadata": {},
     "output_type": "execute_result"
    }
   ],
   "source": [
    "# 訓練模型\n",
    "# 參考資料: fit_generator: https://blog.csdn.net/dou3516/article/details/118757164\n",
    "model.fit_generator(train_generator, \n",
    "          steps_per_epoch=train_generator.samples // BATCH_SIZE,\n",
    "          epochs=100,\n",
    "          validation_data=valid_generator, \n",
    "          validation_steps=valid_generator.samples // BATCH_SIZE,\n",
    "          use_multiprocessing=True,\n",
    "          workers=8,\n",
    "          verbose=1,\n",
    "          callbacks=[early_stopping_1, model_checkpoint_1])"
   ]
  },
  {
   "cell_type": "code",
   "execution_count": 8,
   "id": "pK4DnHGjf6-x",
   "metadata": {
    "executionInfo": {
     "elapsed": 589,
     "status": "ok",
     "timestamp": 1669653681154,
     "user": {
      "displayName": "冠妤 Irene",
      "userId": "16904149191061800627"
     },
     "user_tz": -480
    },
    "id": "pK4DnHGjf6-x"
   },
   "outputs": [],
   "source": [
    "# Collect results\n",
    "results = {}\n",
    "results[\"Fixed LR\"] = {'train-loss': model.history.history[\"loss\"],\n",
    "             'valid-loss': model.history.history[\"val_loss\"],\n",
    "             'train-acc': model.history.history[\"accuracy\"],\n",
    "             'valid-acc': model.history.history[\"val_accuracy\"]}"
   ]
  },
  {
   "cell_type": "markdown",
   "id": "f0df3161",
   "metadata": {},
   "source": [
    "### Model 2: With reduced learning rate"
   ]
  },
  {
   "cell_type": "code",
   "execution_count": 9,
   "id": "8FT0LT15o5_X",
   "metadata": {
    "colab": {
     "base_uri": "https://localhost:8080/"
    },
    "executionInfo": {
     "elapsed": 2294661,
     "status": "ok",
     "timestamp": 1669655980682,
     "user": {
      "displayName": "冠妤 Irene",
      "userId": "16904149191061800627"
     },
     "user_tz": -480
    },
    "id": "8FT0LT15o5_X",
    "outputId": "ee52ebf6-c638-4991-f5a2-1194530c96b9"
   },
   "outputs": [
    {
     "name": "stdout",
     "output_type": "stream",
     "text": [
      "Epoch 1/100\n",
      "70/70 [==============================] - 66s 784ms/step - loss: 1.2573 - accuracy: 0.5108 - val_loss: 0.7116 - val_accuracy: 0.7482 - lr: 1.0000e-05\n",
      "Epoch 2/100\n",
      "70/70 [==============================] - 58s 739ms/step - loss: 0.5802 - accuracy: 0.8142 - val_loss: 0.3765 - val_accuracy: 0.8676 - lr: 1.0000e-05\n",
      "Epoch 3/100\n",
      "70/70 [==============================] - 58s 734ms/step - loss: 0.3903 - accuracy: 0.8757 - val_loss: 0.2750 - val_accuracy: 0.9136 - lr: 1.0000e-05\n",
      "Epoch 4/100\n",
      "70/70 [==============================] - 58s 747ms/step - loss: 0.2957 - accuracy: 0.9125 - val_loss: 0.2495 - val_accuracy: 0.9136 - lr: 1.0000e-05\n",
      "Epoch 5/100\n",
      "70/70 [==============================] - 67s 895ms/step - loss: 0.2369 - accuracy: 0.9300 - val_loss: 0.2112 - val_accuracy: 0.9246 - lr: 1.0000e-05\n",
      "Epoch 6/100\n",
      "70/70 [==============================] - 58s 747ms/step - loss: 0.1927 - accuracy: 0.9425 - val_loss: 0.2015 - val_accuracy: 0.9375 - lr: 1.0000e-05\n",
      "Epoch 7/100\n",
      "70/70 [==============================] - 67s 885ms/step - loss: 0.1552 - accuracy: 0.9520 - val_loss: 0.2171 - val_accuracy: 0.9228 - lr: 1.0000e-05\n",
      "Epoch 8/100\n",
      "70/70 [==============================] - 57s 730ms/step - loss: 0.1304 - accuracy: 0.9618 - val_loss: 0.1789 - val_accuracy: 0.9357 - lr: 1.0000e-05\n",
      "Epoch 9/100\n",
      "70/70 [==============================] - 57s 743ms/step - loss: 0.1150 - accuracy: 0.9668 - val_loss: 0.1912 - val_accuracy: 0.9301 - lr: 1.0000e-05\n",
      "Epoch 10/100\n",
      "70/70 [==============================] - 57s 734ms/step - loss: 0.0985 - accuracy: 0.9704 - val_loss: 0.2012 - val_accuracy: 0.9283 - lr: 1.0000e-05\n",
      "Epoch 11/100\n",
      "70/70 [==============================] - ETA: 0s - loss: 0.0772 - accuracy: 0.9820\n",
      "Epoch 11: ReduceLROnPlateau reducing learning rate to 4.999999873689376e-06.\n",
      "70/70 [==============================] - 59s 759ms/step - loss: 0.0772 - accuracy: 0.9820 - val_loss: 0.1902 - val_accuracy: 0.9283 - lr: 1.0000e-05\n",
      "Epoch 12/100\n",
      "70/70 [==============================] - 59s 755ms/step - loss: 0.0628 - accuracy: 0.9856 - val_loss: 0.1723 - val_accuracy: 0.9393 - lr: 5.0000e-06\n",
      "Epoch 13/100\n",
      "70/70 [==============================] - 59s 750ms/step - loss: 0.0627 - accuracy: 0.9888 - val_loss: 0.1622 - val_accuracy: 0.9504 - lr: 5.0000e-06\n",
      "Epoch 14/100\n",
      "70/70 [==============================] - 57s 741ms/step - loss: 0.0623 - accuracy: 0.9852 - val_loss: 0.1697 - val_accuracy: 0.9320 - lr: 5.0000e-06\n",
      "Epoch 15/100\n",
      "70/70 [==============================] - 68s 867ms/step - loss: 0.0530 - accuracy: 0.9892 - val_loss: 0.1789 - val_accuracy: 0.9375 - lr: 5.0000e-06\n",
      "Epoch 16/100\n",
      "70/70 [==============================] - 67s 881ms/step - loss: 0.0523 - accuracy: 0.9888 - val_loss: 0.1783 - val_accuracy: 0.9357 - lr: 5.0000e-06\n",
      "Epoch 17/100\n",
      "70/70 [==============================] - 57s 739ms/step - loss: 0.0458 - accuracy: 0.9920 - val_loss: 0.1783 - val_accuracy: 0.9375 - lr: 5.0000e-06\n",
      "Epoch 18/100\n",
      "70/70 [==============================] - ETA: 0s - loss: 0.0480 - accuracy: 0.9883\n",
      "Epoch 18: ReduceLROnPlateau reducing learning rate to 2.499999936844688e-06.\n",
      "70/70 [==============================] - 59s 771ms/step - loss: 0.0480 - accuracy: 0.9883 - val_loss: 0.1687 - val_accuracy: 0.9357 - lr: 5.0000e-06\n",
      "Epoch 19/100\n",
      "70/70 [==============================] - 56s 737ms/step - loss: 0.0363 - accuracy: 0.9937 - val_loss: 0.1559 - val_accuracy: 0.9393 - lr: 2.5000e-06\n",
      "Epoch 20/100\n",
      "70/70 [==============================] - 66s 881ms/step - loss: 0.0394 - accuracy: 0.9924 - val_loss: 0.1864 - val_accuracy: 0.9375 - lr: 2.5000e-06\n",
      "Epoch 21/100\n",
      "70/70 [==============================] - 57s 722ms/step - loss: 0.0375 - accuracy: 0.9915 - val_loss: 0.1757 - val_accuracy: 0.9430 - lr: 2.5000e-06\n",
      "Epoch 22/100\n",
      "70/70 [==============================] - 70s 926ms/step - loss: 0.0312 - accuracy: 0.9964 - val_loss: 0.1640 - val_accuracy: 0.9430 - lr: 2.5000e-06\n",
      "Epoch 23/100\n",
      "70/70 [==============================] - ETA: 0s - loss: 0.0341 - accuracy: 0.9942\n",
      "Epoch 23: ReduceLROnPlateau reducing learning rate to 1.249999968422344e-06.\n",
      "70/70 [==============================] - 58s 745ms/step - loss: 0.0341 - accuracy: 0.9942 - val_loss: 0.1800 - val_accuracy: 0.9357 - lr: 2.5000e-06\n",
      "Epoch 24/100\n",
      "70/70 [==============================] - 58s 763ms/step - loss: 0.0301 - accuracy: 0.9955 - val_loss: 0.1495 - val_accuracy: 0.9467 - lr: 1.2500e-06\n",
      "Epoch 25/100\n",
      "70/70 [==============================] - 61s 782ms/step - loss: 0.0303 - accuracy: 0.9951 - val_loss: 0.1803 - val_accuracy: 0.9338 - lr: 1.2500e-06\n",
      "Epoch 26/100\n",
      "70/70 [==============================] - 58s 750ms/step - loss: 0.0306 - accuracy: 0.9937 - val_loss: 0.1585 - val_accuracy: 0.9485 - lr: 1.2500e-06\n",
      "Epoch 27/100\n",
      "70/70 [==============================] - 67s 876ms/step - loss: 0.0319 - accuracy: 0.9951 - val_loss: 0.1628 - val_accuracy: 0.9375 - lr: 1.2500e-06\n",
      "Epoch 28/100\n",
      "70/70 [==============================] - ETA: 0s - loss: 0.0307 - accuracy: 0.9942\n",
      "Epoch 28: ReduceLROnPlateau reducing learning rate to 6.24999984211172e-07.\n",
      "70/70 [==============================] - 70s 909ms/step - loss: 0.0307 - accuracy: 0.9942 - val_loss: 0.1542 - val_accuracy: 0.9485 - lr: 1.2500e-06\n",
      "Epoch 29/100\n",
      "70/70 [==============================] - 68s 902ms/step - loss: 0.0331 - accuracy: 0.9951 - val_loss: 0.1468 - val_accuracy: 0.9412 - lr: 6.2500e-07\n",
      "Epoch 30/100\n",
      "70/70 [==============================] - 56s 737ms/step - loss: 0.0242 - accuracy: 0.9969 - val_loss: 0.1882 - val_accuracy: 0.9393 - lr: 6.2500e-07\n",
      "Epoch 31/100\n",
      "70/70 [==============================] - 59s 744ms/step - loss: 0.0268 - accuracy: 0.9946 - val_loss: 0.1681 - val_accuracy: 0.9393 - lr: 6.2500e-07\n",
      "Epoch 32/100\n",
      "70/70 [==============================] - 57s 737ms/step - loss: 0.0264 - accuracy: 0.9960 - val_loss: 0.1736 - val_accuracy: 0.9338 - lr: 6.2500e-07\n",
      "Epoch 33/100\n",
      "70/70 [==============================] - ETA: 0s - loss: 0.0252 - accuracy: 0.9973\n",
      "Epoch 33: ReduceLROnPlateau reducing learning rate to 3.12499992105586e-07.\n",
      "70/70 [==============================] - 67s 872ms/step - loss: 0.0252 - accuracy: 0.9973 - val_loss: 0.1713 - val_accuracy: 0.9504 - lr: 6.2500e-07\n"
     ]
    },
    {
     "data": {
      "text/plain": [
       "<keras.callbacks.History at 0x7f7204da3690>"
      ]
     },
     "execution_count": 9,
     "metadata": {},
     "output_type": "execute_result"
    }
   ],
   "source": [
    "from keras.callbacks import ReduceLROnPlateau\n",
    "\n",
    "resnet_2 = ResNet50(input_shape=(240, 320, 3), weights=\"imagenet\", pooling='avg', include_top=False)\n",
    "# 增加 Dense Layer , 設定此模型5種分類的output , 並以 softmax 產生各類別的機率值\n",
    "output_2 = keras.layers.Dense(5, activation=\"softmax\")(resnet_2.output)\n",
    "model_2 = Model(inputs=[resnet_2.input], outputs=[output_2])\n",
    "    \n",
    "# 使用 Adam optimizer, 使用較低的 learning rate \n",
    "model_2.compile(loss=\"categorical_crossentropy\",\n",
    "        optimizer=Adam(lr=1e-5),\n",
    "        metrics=[\"accuracy\"])\n",
    "\n",
    "reduce_lr = ReduceLROnPlateau(factor=0.5, min_lr=1e-12, monitor='val_accuracy', patience=5, verbose=1)\n",
    "early_stopping_2 = EarlyStopping(monitor=\"val_accuracy\", patience=20)\n",
    "model_checkpoint_2 = ModelCheckpoint(\"best_model_2.h5\", monitor=\"val_accuracy\", save_best_only=True)\n",
    "\n",
    "model_2.fit_generator(train_generator, \n",
    "          steps_per_epoch=train_generator.samples // BATCH_SIZE,\n",
    "          epochs=100,\n",
    "          validation_data=valid_generator, \n",
    "          validation_steps=valid_generator.samples // BATCH_SIZE,\n",
    "          use_multiprocessing=True,\n",
    "          workers=8,\n",
    "          verbose=1,\n",
    "          callbacks=[reduce_lr, early_stopping_2, model_checkpoint_2])"
   ]
  },
  {
   "cell_type": "code",
   "execution_count": 10,
   "id": "bH7IKa00pyx_",
   "metadata": {
    "executionInfo": {
     "elapsed": 9,
     "status": "ok",
     "timestamp": 1669655996016,
     "user": {
      "displayName": "冠妤 Irene",
      "userId": "16904149191061800627"
     },
     "user_tz": -480
    },
    "id": "bH7IKa00pyx_"
   },
   "outputs": [],
   "source": [
    "results[\"Reduced LR\"] = {'train-loss': model_2.history.history[\"loss\"],\n",
    "              'valid-loss': model_2.history.history[\"val_loss\"],\n",
    "              'train-acc': model_2.history.history[\"accuracy\"],\n",
    "              'valid-acc': model_2.history.history[\"val_accuracy\"]}"
   ]
  },
  {
   "cell_type": "code",
   "execution_count": 11,
   "id": "1BG149Cry2P_",
   "metadata": {
    "colab": {
     "base_uri": "https://localhost:8080/",
     "height": 763
    },
    "executionInfo": {
     "elapsed": 1862,
     "status": "ok",
     "timestamp": 1669656006054,
     "user": {
      "displayName": "冠妤 Irene",
      "userId": "16904149191061800627"
     },
     "user_tz": -480
    },
    "id": "1BG149Cry2P_",
    "outputId": "59ee64e4-1070-4083-abb7-8723e3a5a059"
   },
   "outputs": [
    {
     "data": {
      "image/png": "[encoded data removed]",
      "text/plain": [
       "<Figure size 576x432 with 1 Axes>"
      ]
     },
     "metadata": {
      "needs_background": "light"
     },
     "output_type": "display_data"
    },
    {
     "data": {
      "image/png": "[encoded data removed]",
      "text/plain": [
       "<Figure size 576x432 with 1 Axes>"
      ]
     },
     "metadata": {
      "needs_background": "light"
     },
     "output_type": "display_data"
    }
   ],
   "source": [
    "import matplotlib.pyplot as plt\n",
    "%matplotlib inline\n",
    "color_bar = [\"r\", \"b\"]\n",
    "\n",
    "plt.figure(figsize=(8,6))\n",
    "for i, cond in enumerate(results.keys()):\n",
    "    plt.plot(range(len(results[cond]['train-loss'])),results[cond]['train-loss'], '-', label=cond, color=color_bar[i])\n",
    "    plt.plot(range(len(results[cond]['valid-loss'])),results[cond]['valid-loss'], '--', label=cond, color=color_bar[i])\n",
    "plt.title(\"Loss\")\n",
    "plt.legend()\n",
    "plt.show()\n",
    "\n",
    "plt.figure(figsize=(8,6))\n",
    "for i, cond in enumerate(results.keys()):\n",
    "    plt.plot(range(len(results[cond]['train-acc'])),results[cond]['train-acc'], '-', label=cond, color=color_bar[i])\n",
    "    plt.plot(range(len(results[cond]['valid-acc'])),results[cond]['valid-acc'], '--', label=cond, color=color_bar[i])\n",
    "plt.title(\"Accuracy\")\n",
    "plt.legend()\n",
    "plt.show()"
   ]
  },
  {
   "cell_type": "markdown",
   "id": "e61cad5f",
   "metadata": {},
   "source": [
    "### 模型評估筆記\n",
    "- 使用```ReduceLROnPlateau```根據validation accuracy來降低learning rate, validation loss比較低, 但accuracy差異不大\n",
    "- 選擇```Model 2: With reduced learning rate```來做對測試圖做預測"
   ]
  },
  {
   "cell_type": "code",
   "execution_count": 12,
   "id": "8afb5b90",
   "metadata": {
    "colab": {
     "base_uri": "https://localhost:8080/"
    },
    "executionInfo": {
     "elapsed": 65774,
     "status": "ok",
     "timestamp": 1669656098234,
     "user": {
      "displayName": "冠妤 Irene",
      "userId": "16904149191061800627"
     },
     "user_tz": -480
    },
    "id": "8afb5b90",
    "outputId": "94fe8ecd-abfd-4432-a541-9a191a2432d6"
   },
   "outputs": [
    {
     "name": "stderr",
     "output_type": "stream",
     "text": [
      "100%|██████████| 2000/2000 [00:35<00:00, 56.92it/s] \n"
     ]
    },
    {
     "name": "stdout",
     "output_type": "stream",
     "text": [
      "63/63 [==============================] - 11s 154ms/step\n"
     ]
    }
   ],
   "source": [
    "from keras.models import load_model\n",
    "from tensorflow.keras.utils import load_img, img_to_array\n",
    "import numpy as np\n",
    "import pandas as pd\n",
    "from tqdm import tqdm # 進度條顯示套件 \n",
    "\n",
    "best_model = load_model(\"/content/best_model_2.h5\")\n",
    "\n",
    "# 設定最後的輸出資料\n",
    "X_test = list()\n",
    "id_test = []\n",
    "\n",
    "# 使用 Keras 內建的載入寫法 \n",
    "def load_image(img_path):\n",
    "  img = load_img(img_path, target_size=(240, 320))\n",
    "  img = img_to_array(img)\n",
    "  img = np.expand_dims(img, axis=0)\n",
    "  return img \n",
    "def make_test_data():\n",
    "    global X_test\n",
    "    dir_path = test_path\n",
    "    for img in tqdm(os.listdir(dir_path)):\n",
    "        id_test.append(img[:-4])\n",
    "        path = os.path.join(dir_path, img)\n",
    "        img = load_image(path)\n",
    "        img = np.squeeze(img, axis=0)\n",
    "        X_test.append(np.array(img))\n",
    "make_test_data()        \n",
    "X_test = np.array(X_test)\n",
    "\n",
    "# 輸出預測檔\n",
    "pred = best_model.predict(X_test)\n",
    "pred_digits = np.argmax(pred, axis=1)\n",
    "sub = pd.DataFrame({\"id\": id_test, \"flower_class\": pred_digits})\n",
    "sub.to_csv(\"flower_CNN_ver03.csv\", index = False)"
   ]
  },
  {
   "attachments": {
    "image.png": {
     "image/png": "[encoded data removed]"
    }
   },
   "cell_type": "markdown",
   "id": "341bab04",
   "metadata": {},
   "source": [
    "![image.png](attachment:image.png)"
   ]
  }
 ],
 "metadata": {
  "accelerator": "GPU",
  "colab": {
   "provenance": []
  },
  "gpuClass": "standard",
  "kernelspec": {
   "display_name": "Python 3 (ipykernel)",
   "language": "python",
   "name": "python3"
  },
  "language_info": {
   "codemirror_mode": {
    "name": "ipython",
    "version": 3
   },
   "file_extension": ".py",
   "mimetype": "text/x-python",
   "name": "python",
   "nbconvert_exporter": "python",
   "pygments_lexer": "ipython3",
   "version": "3.9.12"
  }
 },
 "nbformat": 4,
 "nbformat_minor": 5
}
