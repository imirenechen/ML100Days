{
 "cells": [
  {
   "cell_type": "markdown",
   "metadata": {},
   "source": [
    "### [作業目標]\n",
    "了解機器學習適合應用的領域與範疇。  \n",
    "### [作業重點]\n",
    "透過瞭解機器學習的運作方式，找出非常適用機器學習應用的領域及其原因  \n",
    "### 作業\n",
    "請找出一個你認為機器學習可以發光發熱的領域並闡述原因?  \n",
    "<font color=#0000FF>機器學習模型的特性：通常資料量越大、準確度越高，所以適合能夠累積大量資料的領域，例如：金融、工程、行銷、醫療等。</font>"
   ]
  }
 ],
 "metadata": {
  "kernelspec": {
   "display_name": "Python 3 (ipykernel)",
   "language": "python",
   "name": "python3"
  },
  "language_info": {
   "codemirror_mode": {
    "name": "ipython",
    "version": 3
   },
   "file_extension": ".py",
   "mimetype": "text/x-python",
   "name": "python",
   "nbconvert_exporter": "python",
   "pygments_lexer": "ipython3",
   "version": "3.9.12"
  }
 },
 "nbformat": 4,
 "nbformat_minor": 2
}
