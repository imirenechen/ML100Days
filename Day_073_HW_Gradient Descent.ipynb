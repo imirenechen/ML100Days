{
 "cells": [
  {
   "cell_type": "markdown",
   "metadata": {},
   "source": [
    "## 作業重點\n",
    "- 使用function y=(x+5)² 來練習學習率( leanrning rate ) 調整所造成的影響  \n",
    "\n",
    "## 作業目標\n",
    "- 請嘗試使用不同的組合驗證 learning rate 對所需 iteration 的影響\n",
    "- lr = [0.1, 0.0001]\n",
    "- 主要驗證 Lr 對於grandient 收斂的速度"
   ]
  },
  {
   "cell_type": "code",
   "execution_count": 1,
   "metadata": {},
   "outputs": [],
   "source": [
    "precision = 0.000001 # This tells us when to stop the algorithm\n",
    "max_iters = 10000 # maximum number of iterations\n",
    "df = lambda x: 2*(x+5) # Gradient of our function "
   ]
  },
  {
   "cell_type": "code",
   "execution_count": 2,
   "metadata": {},
   "outputs": [
    {
     "name": "stdout",
     "output_type": "stream",
     "text": [
      "Totally iteations:  66\n",
      "The local minimum occurs at -4.999996786123911\n"
     ]
    }
   ],
   "source": [
    "cur_x = 3 # The algorithm starts at x=3\n",
    "lr1 = 0.1\n",
    "iters = 0\n",
    "previous_step_size = 1\n",
    "iters_history1 = [iters]\n",
    "x_history1 = [cur_x]\n",
    "\n",
    "while previous_step_size > precision and iters < max_iters:\n",
    "    prev_x = cur_x # Store current x value in prev_x\n",
    "    cur_x = cur_x - lr1 * df(prev_x) # Gradient descent\n",
    "    previous_step_size = abs(cur_x - prev_x) # 取較大的值, Change in x\n",
    "    iters = iters + 1 # iteration count\n",
    "    # print(\"Iteration\",iters,\"\\nX value is\",cur_x) #Print iterations\n",
    "    # Store parameters for plotting\n",
    "    iters_history1.append(iters)\n",
    "    x_history1.append(cur_x)\n",
    "    \n",
    "print(\"Totally iteations: \", iters)\n",
    "print(\"The local minimum occurs at\", cur_x)"
   ]
  },
  {
   "cell_type": "code",
   "execution_count": 3,
   "metadata": {},
   "outputs": [
    {
     "name": "stdout",
     "output_type": "stream",
     "text": [
      "Totally iteations:  595\n",
      "The local minimum occurs at -4.9999518490318176\n"
     ]
    }
   ],
   "source": [
    "cur_x = 3 # The algorithm starts at x=3\n",
    "lr2 = 0.01\n",
    "iters = 0\n",
    "previous_step_size = 1\n",
    "iters_history2 = [iters]\n",
    "x_history2 = [cur_x]\n",
    "\n",
    "while previous_step_size > precision and iters < max_iters:\n",
    "    prev_x = cur_x # Store current x value in prev_x\n",
    "    cur_x = cur_x - lr2 * df(prev_x) # Gradient descent\n",
    "    previous_step_size = abs(cur_x - prev_x) # 取較大的值, Change in x\n",
    "    iters = iters + 1 # iteration count\n",
    "    # print(\"Iteration\",iters,\"\\nX value is\",cur_x) #Print iterations\n",
    "    # Store parameters for plotting\n",
    "    iters_history2.append(iters)\n",
    "    x_history2.append(cur_x)\n",
    "\n",
    "print(\"Totally iteations: \", iters)\n",
    "print(\"The local minimum occurs at\", cur_x)"
   ]
  },
  {
   "cell_type": "code",
   "execution_count": 4,
   "metadata": {},
   "outputs": [
    {
     "name": "stdout",
     "output_type": "stream",
     "text": [
      "Totally iteations:  10000\n",
      "The local minimum occurs at -3.917534277778167\n"
     ]
    }
   ],
   "source": [
    "cur_x = 3 # The algorithm starts at x=3\n",
    "lr3 = 0.0001\n",
    "iters = 0\n",
    "previous_step_size = 1\n",
    "iters_history3 = [iters]\n",
    "x_history3 = [cur_x]\n",
    "\n",
    "while previous_step_size > precision and iters < max_iters:\n",
    "    prev_x = cur_x # Store current x value in prev_x\n",
    "    cur_x = cur_x - lr3 * df(prev_x) # Gradient descent\n",
    "    previous_step_size = abs(cur_x - prev_x) # 取較大的值, Change in x\n",
    "    iters = iters + 1 # iteration count\n",
    "    # print(\"Iteration\",iters,\"\\nX value is\",cur_x) #Print iterations\n",
    "    # Store parameters for plotting\n",
    "    iters_history3.append(iters)\n",
    "    x_history3.append(cur_x)\n",
    "\n",
    "print(\"Totally iteations: \", iters)\n",
    "print(\"The local minimum occurs at\", cur_x)"
   ]
  },
  {
   "cell_type": "code",
   "execution_count": 5,
   "metadata": {},
   "outputs": [
    {
     "data": {
      "image/png": "[encoded data removed]",
      "text/plain": [
       "<Figure size 432x288 with 1 Axes>"
      ]
     },
     "metadata": {
      "needs_background": "light"
     },
     "output_type": "display_data"
    }
   ],
   "source": [
    "import matplotlib.pyplot as plt\n",
    "%matplotlib inline \n",
    "# 適用於 Jupyter Notebook, 宣告直接在cell 內印出執行結果\n",
    "\n",
    "f1, = plt.plot(iters_history1, x_history1, 'o-', ms=3, lw=1, color='r')\n",
    "f2, = plt.plot(iters_history2, x_history2, 'o-', ms=3, lw=1, color='black')\n",
    "f3, = plt.plot(iters_history3, x_history3, 'o-', ms=3, lw=1, color='b')\n",
    "plt.legend([f1,f2,f3], [\"lr=0.1\",\"lr=0.01\",\"lr=0.0001\"], loc=\"upper right\")\n",
    "plt.title(\"Comparison of different learning rate\", fontsize=18)\n",
    "plt.xlabel(r'$iters$', fontsize=16)\n",
    "plt.ylabel(r'$x$', fontsize=16)\n",
    "plt.show()"
   ]
  },
  {
   "cell_type": "markdown",
   "metadata": {},
   "source": [
    "### 筆記\n",
    "- Learning rate 較大, 很快就收斂, Learning rate 較小, 訓練時間較久且可能還不會收斂"
   ]
  }
 ],
 "metadata": {
  "kernelspec": {
   "display_name": "Python 3 (ipykernel)",
   "language": "python",
   "name": "python3"
  },
  "language_info": {
   "codemirror_mode": {
    "name": "ipython",
    "version": 3
   },
   "file_extension": ".py",
   "mimetype": "text/x-python",
   "name": "python",
   "nbconvert_exporter": "python",
   "pygments_lexer": "ipython3",
   "version": "3.9.12"
  }
 },
 "nbformat": 4,
 "nbformat_minor": 2
}
