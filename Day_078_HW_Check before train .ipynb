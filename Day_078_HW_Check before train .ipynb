{
 "cells": [
  {
   "cell_type": "markdown",
   "metadata": {
    "id": "auEAuEgT4oXE"
   },
   "source": [
    "## Work\n",
    "1. 請嘗試將 preproc_x 替換成以每筆資料的 min/max 進行標準化至 -1 ~ 1 間，再進行訓練\n",
    "2. 請嘗試將 mlp 疊更深 (e.g 5~10 層)，進行訓練後觀察 learning curve 的走勢\n",
    "3. (optional) 請改用 GPU 進行訓練 (可善用 google colab)，比較使用 CPU 與 GPU 的訓練速度"
   ]
  },
  {
   "cell_type": "code",
   "execution_count": 1,
   "metadata": {
    "id": "wujF_rVq4oXF",
    "outputId": "eb23eca8-6055-4eb3-8931-b2e7da7fa596"
   },
   "outputs": [],
   "source": [
    "import os\n",
    "import keras\n",
    "from keras.datasets import cifar10\n",
    "import warnings\n",
    "warnings.filterwarnings('ignore')\n",
    "\n",
    "# 請嘗試設定 GPU：os.environ\n",
    "os.environ[\"CUDA_VISIBLE_DEVICES\"] = \"0\""
   ]
  },
  {
   "cell_type": "code",
   "execution_count": 2,
   "metadata": {
    "id": "cv2Wknx_4oXF"
   },
   "outputs": [],
   "source": [
    "train, test = keras.datasets.cifar10.load_data()\n",
    "# 資料前處理\n",
    "def preproc_x(x, flatten=True):\n",
    "    x = 2 * (((x - x.min()) / (x.max() - x.min())) - 0.5)\n",
    "    if flatten:\n",
    "        x = x.reshape((len(x),-1))\n",
    "    return x\n",
    "\n",
    "def preproc_y(y, num_classes=10):\n",
    "    if y.shape[-1] == 1:\n",
    "        y = keras.utils.to_categorical(y, num_classes)\n",
    "    return y   "
   ]
  },
  {
   "cell_type": "code",
   "execution_count": 3,
   "metadata": {
    "id": "zp2WdT4d4oXF"
   },
   "outputs": [],
   "source": [
    "x_train, y_train = train\n",
    "x_test, y_test = test\n",
    "\n",
    "# Preproc the inputs\n",
    "x_train = preproc_x(x_train)\n",
    "x_test = preproc_x(x_test)\n",
    "\n",
    "# Preprc the outputs\n",
    "y_train = preproc_y(y_train)\n",
    "y_test = preproc_y(y_test)"
   ]
  },
  {
   "cell_type": "code",
   "execution_count": 4,
   "metadata": {
    "id": "KBj2NiDK4oXF"
   },
   "outputs": [],
   "source": [
    "\"\"\"Code Here\n",
    "建立你的神經網路\n",
    "\"\"\"\n",
    "def build_mlp(input_shape, output_units=10, num_neurons=[512, 256, 128, 128, 128]):\n",
    "    input_layer = keras.layers.Input(input_shape)\n",
    "    for i, n_units in enumerate(num_neurons):\n",
    "        if i == 0:\n",
    "            x = keras.layers.Dense(units=n_units, activation=\"relu\", name=\"hidden_layer\"+str(i+1))(input_layer)\n",
    "        else:\n",
    "            x = keras.layers.Dense(units=n_units, activation=\"relu\", name=\"hidden_layer\"+str(i+1))(x)\n",
    "    out = keras.layers.Dense(units=output_units, activation=\"softmax\", name=\"output\")(x)\n",
    "    model = keras.models.Model(inputs=[input_layer], outputs=[out])\n",
    "    return model"
   ]
  },
  {
   "cell_type": "code",
   "execution_count": 5,
   "metadata": {},
   "outputs": [
    {
     "name": "stdout",
     "output_type": "stream",
     "text": [
      "Model: \"model\"\n",
      "_________________________________________________________________\n",
      " Layer (type)                Output Shape              Param #   \n",
      "=================================================================\n",
      " input_1 (InputLayer)        [(None, 3072)]            0         \n",
      "                                                                 \n",
      " hidden_layer1 (Dense)       (None, 512)               1573376   \n",
      "                                                                 \n",
      " hidden_layer2 (Dense)       (None, 256)               131328    \n",
      "                                                                 \n",
      " hidden_layer3 (Dense)       (None, 128)               32896     \n",
      "                                                                 \n",
      " hidden_layer4 (Dense)       (None, 128)               16512     \n",
      "                                                                 \n",
      " hidden_layer5 (Dense)       (None, 128)               16512     \n",
      "                                                                 \n",
      " output (Dense)              (None, 10)                1290      \n",
      "                                                                 \n",
      "=================================================================\n",
      "Total params: 1,771,914\n",
      "Trainable params: 1,771,914\n",
      "Non-trainable params: 0\n",
      "_________________________________________________________________\n"
     ]
    }
   ],
   "source": [
    "model = build_mlp(input_shape=x_train.shape[1:])\n",
    "model.summary()"
   ]
  },
  {
   "cell_type": "code",
   "execution_count": 6,
   "metadata": {
    "id": "uejU37q-4oXF"
   },
   "outputs": [],
   "source": [
    "## 超參數設定\n",
    "LEARNING_RATE = 0.001\n",
    "EPOCHS = 100\n",
    "BATCH_SIZE = 256"
   ]
  },
  {
   "cell_type": "code",
   "execution_count": 7,
   "metadata": {
    "id": "FePHihT34oXG"
   },
   "outputs": [],
   "source": [
    "optimizer = keras.optimizers.Adam(lr=LEARNING_RATE)\n",
    "model.compile(loss=\"categorical_crossentropy\", metrics=[\"accuracy\"], optimizer=optimizer)"
   ]
  },
  {
   "cell_type": "code",
   "execution_count": 8,
   "metadata": {
    "id": "LmLgZXCQ4oXG",
    "outputId": "cb609889-f8fe-47e8-b64c-27db5202b5e5"
   },
   "outputs": [
    {
     "name": "stdout",
     "output_type": "stream",
     "text": [
      "Epoch 1/100\n",
      "196/196 [==============================] - 4s 14ms/step - loss: 1.6890 - accuracy: 0.3993 - val_loss: 1.5764 - val_accuracy: 0.4386\n",
      "Epoch 2/100\n",
      "196/196 [==============================] - 3s 14ms/step - loss: 1.4586 - accuracy: 0.4848 - val_loss: 1.4594 - val_accuracy: 0.4886\n",
      "Epoch 3/100\n",
      "196/196 [==============================] - 3s 14ms/step - loss: 1.3449 - accuracy: 0.5253 - val_loss: 1.4075 - val_accuracy: 0.5033\n",
      "Epoch 4/100\n",
      "196/196 [==============================] - 3s 14ms/step - loss: 1.2519 - accuracy: 0.5573 - val_loss: 1.3799 - val_accuracy: 0.5154\n",
      "Epoch 5/100\n",
      "196/196 [==============================] - 3s 14ms/step - loss: 1.1747 - accuracy: 0.5844 - val_loss: 1.3630 - val_accuracy: 0.5251\n",
      "Epoch 6/100\n",
      "196/196 [==============================] - 3s 15ms/step - loss: 1.0970 - accuracy: 0.6122 - val_loss: 1.3677 - val_accuracy: 0.5260\n",
      "Epoch 7/100\n",
      "196/196 [==============================] - 4s 18ms/step - loss: 1.0264 - accuracy: 0.6388 - val_loss: 1.3785 - val_accuracy: 0.5286\n",
      "Epoch 8/100\n",
      "196/196 [==============================] - 3s 16ms/step - loss: 0.9546 - accuracy: 0.6626 - val_loss: 1.4067 - val_accuracy: 0.5341\n",
      "Epoch 9/100\n",
      "196/196 [==============================] - 3s 16ms/step - loss: 0.8847 - accuracy: 0.6878 - val_loss: 1.4142 - val_accuracy: 0.5331\n",
      "Epoch 10/100\n",
      "196/196 [==============================] - 3s 16ms/step - loss: 0.8155 - accuracy: 0.7110 - val_loss: 1.4504 - val_accuracy: 0.5453\n",
      "Epoch 11/100\n",
      "196/196 [==============================] - 3s 16ms/step - loss: 0.7563 - accuracy: 0.7323 - val_loss: 1.5042 - val_accuracy: 0.5437\n",
      "Epoch 12/100\n",
      "196/196 [==============================] - 3s 16ms/step - loss: 0.6956 - accuracy: 0.7516 - val_loss: 1.5556 - val_accuracy: 0.5318\n",
      "Epoch 13/100\n",
      "196/196 [==============================] - 3s 16ms/step - loss: 0.6428 - accuracy: 0.7723 - val_loss: 1.6362 - val_accuracy: 0.5369\n",
      "Epoch 14/100\n",
      "196/196 [==============================] - 3s 17ms/step - loss: 0.5847 - accuracy: 0.7929 - val_loss: 1.6743 - val_accuracy: 0.5433\n",
      "Epoch 15/100\n",
      "196/196 [==============================] - 3s 17ms/step - loss: 0.5392 - accuracy: 0.8106 - val_loss: 1.8456 - val_accuracy: 0.5363\n",
      "Epoch 16/100\n",
      "196/196 [==============================] - 3s 17ms/step - loss: 0.4974 - accuracy: 0.8234 - val_loss: 1.8666 - val_accuracy: 0.5394\n",
      "Epoch 17/100\n",
      "196/196 [==============================] - 3s 18ms/step - loss: 0.4540 - accuracy: 0.8394 - val_loss: 1.9081 - val_accuracy: 0.5346\n",
      "Epoch 18/100\n",
      "196/196 [==============================] - 3s 17ms/step - loss: 0.4218 - accuracy: 0.8496 - val_loss: 2.0600 - val_accuracy: 0.5292\n",
      "Epoch 19/100\n",
      "196/196 [==============================] - 3s 18ms/step - loss: 0.3949 - accuracy: 0.8604 - val_loss: 2.1052 - val_accuracy: 0.5353\n",
      "Epoch 20/100\n",
      "196/196 [==============================] - 4s 23ms/step - loss: 0.3535 - accuracy: 0.8748 - val_loss: 2.2364 - val_accuracy: 0.5262\n",
      "Epoch 21/100\n",
      "196/196 [==============================] - 4s 23ms/step - loss: 0.3185 - accuracy: 0.8870 - val_loss: 2.3253 - val_accuracy: 0.5359\n",
      "Epoch 22/100\n",
      "196/196 [==============================] - 4s 23ms/step - loss: 0.3066 - accuracy: 0.8921 - val_loss: 2.3890 - val_accuracy: 0.5312\n",
      "Epoch 23/100\n",
      "196/196 [==============================] - 4s 22ms/step - loss: 0.2862 - accuracy: 0.8988 - val_loss: 2.4754 - val_accuracy: 0.5192\n",
      "Epoch 24/100\n",
      "196/196 [==============================] - 4s 22ms/step - loss: 0.2687 - accuracy: 0.9058 - val_loss: 2.6207 - val_accuracy: 0.5257\n",
      "Epoch 25/100\n",
      "196/196 [==============================] - 4s 23ms/step - loss: 0.2602 - accuracy: 0.9099 - val_loss: 2.6039 - val_accuracy: 0.5236\n",
      "Epoch 26/100\n",
      "196/196 [==============================] - 4s 22ms/step - loss: 0.2487 - accuracy: 0.9138 - val_loss: 2.6801 - val_accuracy: 0.5328\n",
      "Epoch 27/100\n",
      "196/196 [==============================] - 5s 25ms/step - loss: 0.2391 - accuracy: 0.9167 - val_loss: 2.7266 - val_accuracy: 0.5252\n",
      "Epoch 28/100\n",
      "196/196 [==============================] - 5s 23ms/step - loss: 0.2168 - accuracy: 0.9238 - val_loss: 2.8352 - val_accuracy: 0.5332\n",
      "Epoch 29/100\n",
      "196/196 [==============================] - 5s 23ms/step - loss: 0.2274 - accuracy: 0.9200 - val_loss: 2.8007 - val_accuracy: 0.5387\n",
      "Epoch 30/100\n",
      "196/196 [==============================] - 5s 23ms/step - loss: 0.1963 - accuracy: 0.9316 - val_loss: 3.0294 - val_accuracy: 0.5244\n",
      "Epoch 31/100\n",
      "196/196 [==============================] - 5s 24ms/step - loss: 0.2011 - accuracy: 0.9305 - val_loss: 2.9862 - val_accuracy: 0.5275\n",
      "Epoch 32/100\n",
      "196/196 [==============================] - 5s 24ms/step - loss: 0.1824 - accuracy: 0.9371 - val_loss: 2.9938 - val_accuracy: 0.5252\n",
      "Epoch 33/100\n",
      "196/196 [==============================] - 5s 24ms/step - loss: 0.1783 - accuracy: 0.9385 - val_loss: 3.1754 - val_accuracy: 0.5280\n",
      "Epoch 34/100\n",
      "196/196 [==============================] - 5s 25ms/step - loss: 0.1714 - accuracy: 0.9416 - val_loss: 3.2329 - val_accuracy: 0.5291\n",
      "Epoch 35/100\n",
      "196/196 [==============================] - 5s 26ms/step - loss: 0.1580 - accuracy: 0.9462 - val_loss: 3.2619 - val_accuracy: 0.5279\n",
      "Epoch 36/100\n",
      "196/196 [==============================] - 5s 26ms/step - loss: 0.1597 - accuracy: 0.9455 - val_loss: 3.2294 - val_accuracy: 0.5277\n",
      "Epoch 37/100\n",
      "196/196 [==============================] - 5s 25ms/step - loss: 0.1722 - accuracy: 0.9417 - val_loss: 3.1494 - val_accuracy: 0.5369\n",
      "Epoch 38/100\n",
      "196/196 [==============================] - 5s 26ms/step - loss: 0.1578 - accuracy: 0.9463 - val_loss: 3.3090 - val_accuracy: 0.5319\n",
      "Epoch 39/100\n",
      "196/196 [==============================] - 5s 25ms/step - loss: 0.1530 - accuracy: 0.9479 - val_loss: 3.3201 - val_accuracy: 0.5232\n",
      "Epoch 40/100\n",
      "196/196 [==============================] - 5s 26ms/step - loss: 0.1345 - accuracy: 0.9535 - val_loss: 3.5279 - val_accuracy: 0.5319\n",
      "Epoch 41/100\n",
      "196/196 [==============================] - 5s 27ms/step - loss: 0.1529 - accuracy: 0.9476 - val_loss: 3.2681 - val_accuracy: 0.5319\n",
      "Epoch 42/100\n",
      "196/196 [==============================] - 5s 27ms/step - loss: 0.1423 - accuracy: 0.9509 - val_loss: 3.4376 - val_accuracy: 0.5320\n",
      "Epoch 43/100\n",
      "196/196 [==============================] - 5s 27ms/step - loss: 0.1289 - accuracy: 0.9555 - val_loss: 3.4995 - val_accuracy: 0.5321\n",
      "Epoch 44/100\n",
      "196/196 [==============================] - 5s 27ms/step - loss: 0.1465 - accuracy: 0.9507 - val_loss: 3.5135 - val_accuracy: 0.5374\n",
      "Epoch 45/100\n",
      "196/196 [==============================] - 5s 27ms/step - loss: 0.1293 - accuracy: 0.9558 - val_loss: 3.5355 - val_accuracy: 0.5291\n",
      "Epoch 46/100\n",
      "196/196 [==============================] - 6s 28ms/step - loss: 0.1119 - accuracy: 0.9625 - val_loss: 3.5660 - val_accuracy: 0.5289\n",
      "Epoch 47/100\n",
      "196/196 [==============================] - 6s 28ms/step - loss: 0.1364 - accuracy: 0.9537 - val_loss: 3.4887 - val_accuracy: 0.5241\n",
      "Epoch 48/100\n",
      "196/196 [==============================] - 6s 30ms/step - loss: 0.1362 - accuracy: 0.9543 - val_loss: 3.6319 - val_accuracy: 0.5257\n",
      "Epoch 49/100\n",
      "196/196 [==============================] - 6s 31ms/step - loss: 0.1265 - accuracy: 0.9574 - val_loss: 3.6941 - val_accuracy: 0.5227\n",
      "Epoch 50/100\n",
      "196/196 [==============================] - 6s 30ms/step - loss: 0.1141 - accuracy: 0.9622 - val_loss: 3.7288 - val_accuracy: 0.5330\n",
      "Epoch 51/100\n",
      "196/196 [==============================] - 6s 32ms/step - loss: 0.1079 - accuracy: 0.9634 - val_loss: 3.7447 - val_accuracy: 0.5327\n",
      "Epoch 52/100\n",
      "196/196 [==============================] - 6s 32ms/step - loss: 0.1051 - accuracy: 0.9656 - val_loss: 3.9062 - val_accuracy: 0.5345\n",
      "Epoch 53/100\n",
      "196/196 [==============================] - 7s 33ms/step - loss: 0.1379 - accuracy: 0.9543 - val_loss: 3.6672 - val_accuracy: 0.5258\n",
      "Epoch 54/100\n",
      "196/196 [==============================] - 7s 34ms/step - loss: 0.0941 - accuracy: 0.9678 - val_loss: 3.8548 - val_accuracy: 0.5345\n",
      "Epoch 55/100\n",
      "196/196 [==============================] - 7s 35ms/step - loss: 0.1075 - accuracy: 0.9644 - val_loss: 3.7993 - val_accuracy: 0.5341\n",
      "Epoch 56/100\n",
      "196/196 [==============================] - 7s 36ms/step - loss: 0.1263 - accuracy: 0.9587 - val_loss: 3.6451 - val_accuracy: 0.5253\n",
      "Epoch 57/100\n"
     ]
    },
    {
     "name": "stdout",
     "output_type": "stream",
     "text": [
      "196/196 [==============================] - 7s 35ms/step - loss: 0.1099 - accuracy: 0.9637 - val_loss: 3.8062 - val_accuracy: 0.5278\n",
      "Epoch 58/100\n",
      "196/196 [==============================] - 7s 37ms/step - loss: 0.0969 - accuracy: 0.9679 - val_loss: 3.8203 - val_accuracy: 0.5297\n",
      "Epoch 59/100\n",
      "196/196 [==============================] - 7s 35ms/step - loss: 0.1040 - accuracy: 0.9660 - val_loss: 3.9149 - val_accuracy: 0.5319\n",
      "Epoch 60/100\n",
      "196/196 [==============================] - 7s 35ms/step - loss: 0.0990 - accuracy: 0.9677 - val_loss: 3.8089 - val_accuracy: 0.5311\n",
      "Epoch 61/100\n",
      "196/196 [==============================] - 4s 18ms/step - loss: 0.1072 - accuracy: 0.9646 - val_loss: 3.9373 - val_accuracy: 0.5320\n",
      "Epoch 62/100\n",
      "196/196 [==============================] - 4s 18ms/step - loss: 0.0952 - accuracy: 0.9679 - val_loss: 3.8418 - val_accuracy: 0.5298\n",
      "Epoch 63/100\n",
      "196/196 [==============================] - 4s 20ms/step - loss: 0.1043 - accuracy: 0.9652 - val_loss: 3.8645 - val_accuracy: 0.5310\n",
      "Epoch 64/100\n",
      "196/196 [==============================] - 4s 19ms/step - loss: 0.1034 - accuracy: 0.9662 - val_loss: 3.8843 - val_accuracy: 0.5320\n",
      "Epoch 65/100\n",
      "196/196 [==============================] - 4s 19ms/step - loss: 0.0969 - accuracy: 0.9679 - val_loss: 3.8983 - val_accuracy: 0.5229\n",
      "Epoch 66/100\n",
      "196/196 [==============================] - 4s 20ms/step - loss: 0.0902 - accuracy: 0.9701 - val_loss: 3.8896 - val_accuracy: 0.5343\n",
      "Epoch 67/100\n",
      "196/196 [==============================] - 4s 22ms/step - loss: 0.0957 - accuracy: 0.9681 - val_loss: 3.9509 - val_accuracy: 0.5278\n",
      "Epoch 68/100\n",
      "196/196 [==============================] - 4s 22ms/step - loss: 0.0890 - accuracy: 0.9707 - val_loss: 3.9714 - val_accuracy: 0.5243\n",
      "Epoch 69/100\n",
      "196/196 [==============================] - 4s 22ms/step - loss: 0.0864 - accuracy: 0.9706 - val_loss: 4.1611 - val_accuracy: 0.5370\n",
      "Epoch 70/100\n",
      "196/196 [==============================] - 4s 22ms/step - loss: 0.0967 - accuracy: 0.9690 - val_loss: 4.1312 - val_accuracy: 0.5332\n",
      "Epoch 71/100\n",
      "196/196 [==============================] - 4s 22ms/step - loss: 0.0910 - accuracy: 0.9699 - val_loss: 3.9346 - val_accuracy: 0.5321\n",
      "Epoch 72/100\n",
      "196/196 [==============================] - 4s 22ms/step - loss: 0.0803 - accuracy: 0.9739 - val_loss: 4.0561 - val_accuracy: 0.5331\n",
      "Epoch 73/100\n",
      "196/196 [==============================] - 4s 23ms/step - loss: 0.0911 - accuracy: 0.9700 - val_loss: 3.9545 - val_accuracy: 0.5269\n",
      "Epoch 74/100\n",
      "196/196 [==============================] - 5s 23ms/step - loss: 0.0845 - accuracy: 0.9721 - val_loss: 4.0636 - val_accuracy: 0.5342\n",
      "Epoch 75/100\n",
      "196/196 [==============================] - 5s 23ms/step - loss: 0.0845 - accuracy: 0.9728 - val_loss: 4.0723 - val_accuracy: 0.5352\n",
      "Epoch 76/100\n",
      "196/196 [==============================] - 5s 24ms/step - loss: 0.0853 - accuracy: 0.9734 - val_loss: 4.0464 - val_accuracy: 0.5345\n",
      "Epoch 77/100\n",
      "196/196 [==============================] - 5s 23ms/step - loss: 0.0778 - accuracy: 0.9749 - val_loss: 4.1591 - val_accuracy: 0.5318\n",
      "Epoch 78/100\n",
      "196/196 [==============================] - 5s 23ms/step - loss: 0.0921 - accuracy: 0.9703 - val_loss: 3.9916 - val_accuracy: 0.5359\n",
      "Epoch 79/100\n",
      "196/196 [==============================] - 5s 23ms/step - loss: 0.0813 - accuracy: 0.9730 - val_loss: 4.1371 - val_accuracy: 0.5344\n",
      "Epoch 80/100\n",
      "196/196 [==============================] - 5s 23ms/step - loss: 0.0893 - accuracy: 0.9708 - val_loss: 3.9629 - val_accuracy: 0.5320\n",
      "Epoch 81/100\n",
      "196/196 [==============================] - 5s 24ms/step - loss: 0.0697 - accuracy: 0.9779 - val_loss: 4.1512 - val_accuracy: 0.5339\n",
      "Epoch 82/100\n",
      "196/196 [==============================] - 5s 24ms/step - loss: 0.0740 - accuracy: 0.9761 - val_loss: 4.0495 - val_accuracy: 0.5265\n",
      "Epoch 83/100\n",
      "196/196 [==============================] - 5s 24ms/step - loss: 0.0872 - accuracy: 0.9719 - val_loss: 4.1565 - val_accuracy: 0.5313\n",
      "Epoch 84/100\n",
      "196/196 [==============================] - 5s 24ms/step - loss: 0.0807 - accuracy: 0.9737 - val_loss: 4.0313 - val_accuracy: 0.5296\n",
      "Epoch 85/100\n",
      "196/196 [==============================] - 5s 25ms/step - loss: 0.0761 - accuracy: 0.9754 - val_loss: 4.2264 - val_accuracy: 0.5285\n",
      "Epoch 86/100\n",
      "196/196 [==============================] - 5s 27ms/step - loss: 0.0795 - accuracy: 0.9747 - val_loss: 4.0892 - val_accuracy: 0.5301\n",
      "Epoch 87/100\n",
      "196/196 [==============================] - 5s 27ms/step - loss: 0.0667 - accuracy: 0.9779 - val_loss: 4.2133 - val_accuracy: 0.5300\n",
      "Epoch 88/100\n",
      "196/196 [==============================] - 5s 26ms/step - loss: 0.0629 - accuracy: 0.9797 - val_loss: 4.2839 - val_accuracy: 0.5344\n",
      "Epoch 89/100\n",
      "196/196 [==============================] - 5s 25ms/step - loss: 0.0849 - accuracy: 0.9735 - val_loss: 3.9733 - val_accuracy: 0.5287\n",
      "Epoch 90/100\n",
      "196/196 [==============================] - 5s 26ms/step - loss: 0.0723 - accuracy: 0.9766 - val_loss: 4.3003 - val_accuracy: 0.5289\n",
      "Epoch 91/100\n",
      "196/196 [==============================] - 5s 26ms/step - loss: 0.0723 - accuracy: 0.9765 - val_loss: 4.1314 - val_accuracy: 0.5362\n",
      "Epoch 92/100\n",
      "196/196 [==============================] - 5s 27ms/step - loss: 0.0728 - accuracy: 0.9766 - val_loss: 4.2402 - val_accuracy: 0.5335\n",
      "Epoch 93/100\n",
      "196/196 [==============================] - 5s 27ms/step - loss: 0.0581 - accuracy: 0.9813 - val_loss: 4.3369 - val_accuracy: 0.5350\n",
      "Epoch 94/100\n",
      "196/196 [==============================] - 5s 26ms/step - loss: 0.0681 - accuracy: 0.9786 - val_loss: 4.0784 - val_accuracy: 0.5322\n",
      "Epoch 95/100\n",
      "196/196 [==============================] - 5s 28ms/step - loss: 0.0704 - accuracy: 0.9771 - val_loss: 4.2938 - val_accuracy: 0.5345\n",
      "Epoch 96/100\n",
      "196/196 [==============================] - 6s 28ms/step - loss: 0.0854 - accuracy: 0.9729 - val_loss: 3.9832 - val_accuracy: 0.5259\n",
      "Epoch 97/100\n",
      "196/196 [==============================] - 6s 29ms/step - loss: 0.0674 - accuracy: 0.9786 - val_loss: 4.1810 - val_accuracy: 0.5382\n",
      "Epoch 98/100\n",
      "196/196 [==============================] - 6s 31ms/step - loss: 0.0584 - accuracy: 0.9812 - val_loss: 4.3891 - val_accuracy: 0.5365\n",
      "Epoch 99/100\n",
      "196/196 [==============================] - 6s 30ms/step - loss: 0.0696 - accuracy: 0.9771 - val_loss: 4.2781 - val_accuracy: 0.5315\n",
      "Epoch 100/100\n",
      "196/196 [==============================] - 6s 31ms/step - loss: 0.0803 - accuracy: 0.9752 - val_loss: 3.9891 - val_accuracy: 0.5313\n"
     ]
    },
    {
     "data": {
      "text/plain": [
       "<keras.callbacks.History at 0x16b35e8baf0>"
      ]
     },
     "execution_count": 8,
     "metadata": {},
     "output_type": "execute_result"
    }
   ],
   "source": [
    "model.fit(x_train, y_train, \n",
    "          epochs=EPOCHS, \n",
    "          batch_size=BATCH_SIZE, \n",
    "          validation_data=(x_test, y_test), \n",
    "          shuffle=True)"
   ]
  },
  {
   "cell_type": "code",
   "execution_count": 9,
   "metadata": {
    "id": "jThDeFlL4oXG",
    "outputId": "c8f6a381-da51-4682-8b02-fd9a0733007c"
   },
   "outputs": [
    {
     "data": {
      "image/png": "[encoded data removed]",
      "text/plain": [
       "<Figure size 432x288 with 1 Axes>"
      ]
     },
     "metadata": {
      "needs_background": "light"
     },
     "output_type": "display_data"
    },
    {
     "data": {
      "image/png": "[encoded data removed]",
      "text/plain": [
       "<Figure size 432x288 with 1 Axes>"
      ]
     },
     "metadata": {
      "needs_background": "light"
     },
     "output_type": "display_data"
    }
   ],
   "source": [
    "import matplotlib.pyplot as plt\n",
    "\n",
    "\n",
    "train_loss = model.history.history[\"loss\"]\n",
    "valid_loss = model.history.history[\"val_loss\"]\n",
    "\n",
    "train_acc = model.history.history[\"accuracy\"]\n",
    "valid_acc = model.history.history[\"val_accuracy\"]\n",
    "\n",
    "plt.plot(range(len(train_loss)), train_loss, label=\"train loss\")\n",
    "plt.plot(range(len(valid_loss)), valid_loss, label=\"valid loss\")\n",
    "plt.legend()\n",
    "plt.title(\"Loss\")\n",
    "plt.show()\n",
    "\n",
    "plt.plot(range(len(train_acc)), train_acc, label=\"train accuracy\")\n",
    "plt.plot(range(len(valid_acc)), valid_acc, label=\"valid accuracy\")\n",
    "plt.legend()\n",
    "plt.title(\"Accuracy\")\n",
    "plt.show()"
   ]
  }
 ],
 "metadata": {
  "colab": {
   "name": "Day078_CheckBeforeTrain_作業 (更新).ipynb",
   "provenance": []
  },
  "kernelspec": {
   "display_name": "Python 3 (ipykernel)",
   "language": "python",
   "name": "python3"
  },
  "language_info": {
   "codemirror_mode": {
    "name": "ipython",
    "version": 3
   },
   "file_extension": ".py",
   "mimetype": "text/x-python",
   "name": "python",
   "nbconvert_exporter": "python",
   "pygments_lexer": "ipython3",
   "version": "3.9.12"
  }
 },
 "nbformat": 4,
 "nbformat_minor": 1
}
